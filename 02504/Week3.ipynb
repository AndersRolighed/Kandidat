{
 "cells": [
  {
   "cell_type": "code",
   "execution_count": 6,
   "id": "e66032fa",
   "metadata": {},
   "outputs": [],
   "source": [
    "import numpy as np\n",
    "import cv2 as cv2"
   ]
  },
  {
   "cell_type": "code",
   "execution_count": 7,
   "id": "e49e4123",
   "metadata": {},
   "outputs": [],
   "source": [
    "K = np.array([[900, 0, 1070], [0, 900, 610.0], [0, 0, 1]], float)\n",
    "R1 = cv2.Rodrigues(np.array([-1.6, 0.3, -2.1]))[0]\n",
    "t1 = np.array([[0.0], [1.0], [3.0]], float)\n",
    "R2 = cv2.Rodrigues(np.array([-0.4, -1.3, -1.6]))[0]\n",
    "t2 = np.array([[0.0], [1.0], [6.0]], float)\n",
    "R3 = cv2.Rodrigues(np.array([2.5, 1.7, -0.4]))[0]\n",
    "t3 = np.array([[2.0], [-7.0], [25.0]], float)"
   ]
  },
  {
   "cell_type": "code",
   "execution_count": 36,
   "id": "faf36dc5",
   "metadata": {},
   "outputs": [],
   "source": [
    "p1 = np.array([[1046.0], [453.0]])\n",
    "p2 = np.array([[1126.0], [671.0], [1]])\n",
    "p3 = np.array([[1165.0], [453.0]])"
   ]
  },
  {
   "cell_type": "code",
   "execution_count": 37,
   "id": "257195be",
   "metadata": {},
   "outputs": [],
   "source": [
    "t2_skew = np.array([[0, -6, 1], [6, 0, 0], [-1, 0, 0]])"
   ]
  },
  {
   "cell_type": "code",
   "execution_count": 38,
   "id": "72800652",
   "metadata": {},
   "outputs": [],
   "source": [
    "F = np.transpose(K)@t2_skew@R2@np.linalg.inv(K)"
   ]
  },
  {
   "cell_type": "code",
   "execution_count": 43,
   "id": "aec612e5",
   "metadata": {},
   "outputs": [],
   "source": [
    "I2 = F@p2"
   ]
  },
  {
   "cell_type": "code",
   "execution_count": 53,
   "id": "8d0afeb8",
   "metadata": {},
   "outputs": [],
   "source": [
    "I2_norm = np.array([[I2[0]/I2[2]], [I2[1]/I2[2]]])"
   ]
  },
  {
   "cell_type": "code",
   "execution_count": 54,
   "id": "36671287",
   "metadata": {},
   "outputs": [],
   "source": [
    "p2_norm = np.array([[1126.0], [671.0]])"
   ]
  },
  {
   "cell_type": "code",
   "execution_count": 56,
   "id": "b3a82b23",
   "metadata": {},
   "outputs": [
    {
     "data": {
      "text/plain": [
       "array([[[1289.17243764]]])"
      ]
     },
     "execution_count": 56,
     "metadata": {},
     "output_type": "execute_result"
    }
   ],
   "source": [
    "(np.transpose(I2_norm)@p2_norm)/(np.sqrt(I2_norm[0]**2+I2_norm[1]**2))"
   ]
  },
  {
   "cell_type": "code",
   "execution_count": null,
   "id": "7a4313b4",
   "metadata": {},
   "outputs": [],
   "source": []
  }
 ],
 "metadata": {
  "kernelspec": {
   "display_name": "Python 3 (ipykernel)",
   "language": "python",
   "name": "python3"
  },
  "language_info": {
   "codemirror_mode": {
    "name": "ipython",
    "version": 3
   },
   "file_extension": ".py",
   "mimetype": "text/x-python",
   "name": "python",
   "nbconvert_exporter": "python",
   "pygments_lexer": "ipython3",
   "version": "3.9.12"
  }
 },
 "nbformat": 4,
 "nbformat_minor": 5
}
