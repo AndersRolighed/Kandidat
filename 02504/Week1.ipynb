{
 "cells": [
  {
   "cell_type": "code",
   "execution_count": 1,
   "id": "c4c2ce50",
   "metadata": {},
   "outputs": [],
   "source": [
    "import numpy as np\n",
    "import cv2 as cv2"
   ]
  },
  {
   "cell_type": "code",
   "execution_count": 2,
   "id": "ef2d0e1a",
   "metadata": {},
   "outputs": [],
   "source": [
    "p = np.array([2,4,3])\n",
    "l = np.array([1,2,2])"
   ]
  },
  {
   "cell_type": "code",
   "execution_count": 3,
   "id": "508106c9",
   "metadata": {},
   "outputs": [
    {
     "data": {
      "text/plain": [
       "2.3851391759997758"
      ]
     },
     "execution_count": 3,
     "metadata": {},
     "output_type": "execute_result"
    }
   ],
   "source": [
    "np.abs(np.dot(l, np.transpose(p)))/(p[2]*(np.sqrt(l[0]**2+l[1]**2)))"
   ]
  },
  {
   "cell_type": "code",
   "execution_count": 4,
   "id": "2b052663",
   "metadata": {},
   "outputs": [
    {
     "name": "stdout",
     "output_type": "stream",
     "text": [
      "Projection matrix:\n",
      "[[ 1.61665860e+03  2.57925114e+02  8.60633257e+02  1.88800000e+02]\n",
      " [-4.03449658e+02  1.61075318e+03  7.57101420e+02  1.16500000e+02]\n",
      " [-8.90528958e-02 -1.08953096e-01  9.90049900e-01  5.00000000e-02]]\n"
     ]
    }
   ],
   "source": [
    "import numpy as np\n",
    "import cv2\n",
    "\n",
    "# Camera parameters\n",
    "focal_length = 1720\n",
    "principal_point = np.array([680, 610])\n",
    "\n",
    "# Rotation matrix and translation vector\n",
    "rotation_vector = np.array([-0.1, 0.1, -0.2])\n",
    "R = cv2.Rodrigues(rotation_vector)[0]\n",
    "translation_vector = np.array([[0.09], [0.05], [0.05]])\n",
    "\n",
    "# Construct the camera matrix\n",
    "K = np.array([[focal_length, 0, principal_point[0]],\n",
    "              [0, focal_length, principal_point[1]],\n",
    "              [0, 0, 1]])\n",
    "\n",
    "# Combine the intrinsic and extrinsic parameters\n",
    "projection_matrix = np.dot(K, np.hstack((R, translation_vector)))\n",
    "\n",
    "print(\"Projection matrix:\")\n",
    "print(projection_matrix)\n"
   ]
  },
  {
   "cell_type": "code",
   "execution_count": 5,
   "id": "c19ac44a",
   "metadata": {},
   "outputs": [],
   "source": [
    "point_w = np.array([-0.03, 0.01, 0.59, 1]) ##husk at gøre det til homogenous koordinater\n",
    "x = np.dot(projection_matrix, np.transpose(point_w))"
   ]
  },
  {
   "cell_type": "code",
   "execution_count": 6,
   "id": "b84a3bb1",
   "metadata": {},
   "outputs": [
    {
     "name": "stdout",
     "output_type": "stream",
     "text": [
      "1023.5037710382543 930.2975675125872\n"
     ]
    }
   ],
   "source": [
    "print(x[0]/x[2], x[1]/x[2]) ## tilbage til ikke homogenous"
   ]
  },
  {
   "cell_type": "code",
   "execution_count": null,
   "id": "b93882e2",
   "metadata": {},
   "outputs": [],
   "source": []
  }
 ],
 "metadata": {
  "kernelspec": {
   "display_name": "Python 3 (ipykernel)",
   "language": "python",
   "name": "python3"
  },
  "language_info": {
   "codemirror_mode": {
    "name": "ipython",
    "version": 3
   },
   "file_extension": ".py",
   "mimetype": "text/x-python",
   "name": "python",
   "nbconvert_exporter": "python",
   "pygments_lexer": "ipython3",
   "version": "3.9.13"
  }
 },
 "nbformat": 4,
 "nbformat_minor": 5
}
