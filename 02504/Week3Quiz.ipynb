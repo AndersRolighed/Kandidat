{
 "cells": [
  {
   "cell_type": "code",
   "execution_count": 32,
   "id": "5511a118",
   "metadata": {},
   "outputs": [
    {
     "name": "stdout",
     "output_type": "stream",
     "text": [
      "Distance from p2 to the epipolar line in camera 2 corresponding to p1: [340.34285878]\n"
     ]
    },
    {
     "name": "stderr",
     "output_type": "stream",
     "text": [
      "C:\\Users\\Nedan\\AppData\\Local\\Temp\\ipykernel_20952\\2509943317.py:8: VisibleDeprecationWarning: Creating an ndarray from ragged nested sequences (which is a list-or-tuple of lists-or-tuples-or ndarrays with different lengths or shapes) is deprecated. If you meant to do this, you must specify 'dtype=object' when creating the ndarray.\n",
      "  return np.array([[0, -v[2], v[1]],\n"
     ]
    }
   ],
   "source": [
    "import numpy as np\n",
    "import cv2\n",
    "\n",
    "def skew(v):\n",
    "    \"\"\"\n",
    "    Create a skew-symmetric matrix from a given vector v.\n",
    "    \"\"\"\n",
    "    return np.array([[0, -v[2], v[1]],\n",
    "                     [v[2], 0, -v[0]],\n",
    "                     [-v[1], v[0], 0]])\n",
    "\n",
    "\n",
    "# Given camera matrix and extrinsics\n",
    "K = np.array([[900, 0, 1070], [0, 900, 610.0], [0, 0, 1]], float)\n",
    "R1 = cv2.Rodrigues(np.array([-1.6, 0.3, -2.1]))[0]\n",
    "t1 = np.array([[0.0], [1.0], [3.0]], float)\n",
    "R2 = cv2.Rodrigues(np.array([-0.4, -1.3, -1.6]))[0]\n",
    "t2 = np.array([[0.0], [1.0], [6.0]], float)\n",
    "R3 = cv2.Rodrigues(np.array([2.5, 1.7, -0.4]))[0]\n",
    "t3 = np.array([[2.0], [-7.0], [25.0]], float)\n",
    "\n",
    "# Observed points in each camera\n",
    "p1 = np.array([[1046.0], [453.0]])\n",
    "p2 = np.array([[1126.0], [671.0]])\n",
    "p3 = np.array([[1165.0], [453.0]])\n",
    "\n",
    "\n",
    "# Compute relative rotation and translation between camera 1 and camera 2\n",
    "R_rel = np.dot(R2, R1.T)\n",
    "t_rel = np.dot(R2, t1) + t2\n",
    "\n",
    "# Construct the essential matrix E12 from the relative rotation and translation\n",
    "E12 = skew(t_rel).dot(R_rel)\n",
    "\n",
    "# Compute the fundamental matrix F12 from the essential matrix E12 and camera intrinsic matrices\n",
    "F12 = np.dot(np.linalg.inv(K).T, np.dot(E12, np.linalg.inv(K)))\n",
    "\n",
    "# Compute the epipolar line in camera 2 corresponding to p1\n",
    "epipolar_line_2_homogeneous = np.dot(F12, p1_homogeneous)\n",
    "\n",
    "# Extract coefficients of the epipolar line (ax + by + c = 0)\n",
    "a, b, c = epipolar_line_2_homogeneous.flatten()\n",
    "\n",
    "# Convert p2 from homogeneous to inhomogeneous coordinates\n",
    "p2_inhomogeneous = p2_homogeneous[:2] / p2_homogeneous[2]\n",
    "\n",
    "# Compute the distance from p2 to the epipolar line\n",
    "distance = np.abs(a * p2_inhomogeneous[0] + b * p2_inhomogeneous[1] + c) / np.sqrt(a**2 + b**2)\n",
    "print(\"Distance from p2 to the epipolar line in camera 2 corresponding to p1:\", distance)"
   ]
  },
  {
   "cell_type": "code",
   "execution_count": 39,
   "id": "cc318216",
   "metadata": {},
   "outputs": [
    {
     "name": "stdout",
     "output_type": "stream",
     "text": [
      "Essential matrix E12:\n",
      "[[array([-6.00717643]) array([-5.06311891]) array([3.23615186])]\n",
      " [array([-0.03142135]) array([-4.1530644]) array([-6.42721971])]\n",
      " [array([-0.0733929]) array([1.93059916]) array([3.15099781])]]\n",
      "\n",
      "Fundamental matrix F12:\n",
      "[[array([-7.4162672e-06]) array([-6.25076409e-06]) array([0.0153441])]\n",
      " [array([-3.87917857e-08]) array([-5.12724e-06]) array([-0.00397223])]\n",
      " [array([0.00787752]) array([0.01196104]) array([-12.06538513])]]\n",
      "\n",
      "Epipolar line in camera 2 corresponding to p1:\n",
      "[[array([0.00475508])]\n",
      " [array([-0.00633545])]\n",
      " [array([1.59285507])]]\n",
      "\n",
      "Coefficients of the epipolar line (ax + by + c = 0):\n",
      "a: [0.00475508] b: [-0.00633545] c: [1.59285507]\n",
      "\n",
      "Homogeneous p2: [[1.126e+03]\n",
      " [6.710e+02]\n",
      " [1.000e+00]]\n",
      "Inhomogeneous p2: [[1126.]\n",
      " [ 671.]]\n",
      "\n",
      "Distance from p2 to the epipolar line in camera 2 corresponding to p1: [340.34285878]\n"
     ]
    }
   ],
   "source": [
    "# Print the computed essential matrix E12\n",
    "print(\"Essential matrix E12:\")\n",
    "print(E12)\n",
    "\n",
    "# Compute the fundamental matrix F12 from the essential matrix E12 and camera intrinsic matrices\n",
    "F12 = np.dot(np.linalg.inv(K).T, np.dot(E12, np.linalg.inv(K)))\n",
    "print(\"\\nFundamental matrix F12:\")\n",
    "print(F12)\n",
    "\n",
    "# Compute the epipolar line in camera 2 corresponding to p1\n",
    "epipolar_line_2_homogeneous = np.dot(F12, p1_homogeneous)\n",
    "print(\"\\nEpipolar line in camera 2 corresponding to p1:\")\n",
    "print(epipolar_line_2_homogeneous)\n",
    "\n",
    "# Extract coefficients of the epipolar line (ax + by + c = 0)\n",
    "a, b, c = epipolar_line_2_homogeneous.flatten()\n",
    "print(\"\\nCoefficients of the epipolar line (ax + by + c = 0):\")\n",
    "print(\"a:\", a, \"b:\", b, \"c:\", c)\n",
    "\n",
    "# Convert p2 from homogeneous to inhomogeneous coordinates\n",
    "p2_inhomogeneous = p2_homogeneous[:2] / p2_homogeneous[2]\n",
    "print(\"\\nHomogeneous p2:\", p2_homogeneous)\n",
    "print(\"Inhomogeneous p2:\", p2_inhomogeneous)\n",
    "\n",
    "# Compute the distance from p2 to the epipolar line\n",
    "distance = np.abs(a * p2_inhomogeneous[0] + b * p2_inhomogeneous[1] + c) / np.sqrt(a**2 + b**2)\n",
    "print(\"\\nDistance from p2 to the epipolar line in camera 2 corresponding to p1:\", distance)\n"
   ]
  },
  {
   "cell_type": "code",
   "execution_count": 33,
   "id": "7681f211",
   "metadata": {},
   "outputs": [
    {
     "data": {
      "text/plain": [
       "array([[1.126e+03],\n",
       "       [6.710e+02],\n",
       "       [1.000e+00]])"
      ]
     },
     "execution_count": 33,
     "metadata": {},
     "output_type": "execute_result"
    }
   ],
   "source": [
    "p2_homogeneous"
   ]
  },
  {
   "cell_type": "code",
   "execution_count": 34,
   "id": "2ac5b9ba",
   "metadata": {},
   "outputs": [
    {
     "data": {
      "text/plain": [
       "array([[1126.],\n",
       "       [ 671.]])"
      ]
     },
     "execution_count": 34,
     "metadata": {},
     "output_type": "execute_result"
    }
   ],
   "source": [
    "p2_inhomogeneous"
   ]
  },
  {
   "cell_type": "code",
   "execution_count": 35,
   "id": "3c1c8272",
   "metadata": {},
   "outputs": [
    {
     "data": {
      "text/plain": [
       "array([array([0.00475508]), array([-0.00633545]), array([1.59285507])],\n",
       "      dtype=object)"
      ]
     },
     "execution_count": 35,
     "metadata": {},
     "output_type": "execute_result"
    }
   ],
   "source": [
    "epipolar_line_2_homogeneous.flatten()"
   ]
  },
  {
   "cell_type": "code",
   "execution_count": 36,
   "id": "f4e8049d",
   "metadata": {},
   "outputs": [
    {
     "data": {
      "text/plain": [
       "array([2.6959951])"
      ]
     },
     "execution_count": 36,
     "metadata": {},
     "output_type": "execute_result"
    }
   ],
   "source": [
    "a * p2_homogeneous[0] + b * p2_homogeneous[1] + c"
   ]
  },
  {
   "cell_type": "code",
   "execution_count": 38,
   "id": "b5bbef1b",
   "metadata": {},
   "outputs": [
    {
     "data": {
      "text/plain": [
       "array([0.00792141])"
      ]
     },
     "execution_count": 38,
     "metadata": {},
     "output_type": "execute_result"
    }
   ],
   "source": [
    "np.sqrt(a**2 + np.abs(b)**2)"
   ]
  },
  {
   "cell_type": "code",
   "execution_count": 41,
   "id": "4b4bc2f1",
   "metadata": {},
   "outputs": [
    {
     "name": "stdout",
     "output_type": "stream",
     "text": [
      "Triangulated point (homogeneous coordinates): [-0.65175314 -0.7280881  -0.36574491  1.        ]\n"
     ]
    }
   ],
   "source": [
    "# Create a combined intrinsic matrix K_combined\n",
    "K_combined = np.array([[900, 0, 1070], [0, 900, 610.0], [0, 0, 1]], float)\n",
    "\n",
    "# Stacking the projection equations for all observations\n",
    "# Stacking the projection equations for all observations\n",
    "A = np.vstack([\n",
    "    np.hstack([p1[0] * R1[2] - R1[0, 2] * np.eye(3), p1[1] * R1[2] - R1[1, 2] * np.eye(3)]),\n",
    "    np.hstack([p2[0] * R2[2] - R2[0, 2] * np.eye(3), p2[1] * R2[2] - R2[1, 2] * np.eye(3)]),\n",
    "    np.hstack([p3[0] * R3[2] - R3[0, 2] * np.eye(3), p3[1] * R3[2] - R3[1, 2] * np.eye(3)])\n",
    "])\n",
    "\n",
    "# Perform singular value decomposition (SVD) to solve for the 3D point\n",
    "U, S, V = np.linalg.svd(A)\n",
    "P_triangulated = V[-1, :4] / V[-1, 3]  # Normalize the homogeneous coordinates\n",
    "\n",
    "# The triangulated point is the homogeneous 3D point\n",
    "print(\"Triangulated point (homogeneous coordinates):\", P_triangulated)\n"
   ]
  },
  {
   "cell_type": "code",
   "execution_count": null,
   "id": "cfe2b240",
   "metadata": {},
   "outputs": [],
   "source": []
  }
 ],
 "metadata": {
  "kernelspec": {
   "display_name": "Python 3 (ipykernel)",
   "language": "python",
   "name": "python3"
  },
  "language_info": {
   "codemirror_mode": {
    "name": "ipython",
    "version": 3
   },
   "file_extension": ".py",
   "mimetype": "text/x-python",
   "name": "python",
   "nbconvert_exporter": "python",
   "pygments_lexer": "ipython3",
   "version": "3.9.13"
  }
 },
 "nbformat": 4,
 "nbformat_minor": 5
}
