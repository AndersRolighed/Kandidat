{
 "cells": [
  {
   "cell_type": "markdown",
   "id": "2679df95-074e-40db-b4c1-076cd4fcb54e",
   "metadata": {},
   "source": [
    "# Initialization\n",
    "\n",
    "Retrieve all JRE episodes and save the episodes titles, descriptions and dates. Guest names can be extracted from the description using Named Entity Recognition. The hope is that this approach can be generalized to all podcasts that contain descriptions for their episodes."
   ]
  },
  {
   "cell_type": "code",
   "execution_count": 1,
   "id": "d195ab50-0fe4-4489-b5ee-28f98ddb458c",
   "metadata": {},
   "outputs": [],
   "source": [
    "# Imports\n",
    "import requests\n",
    "import base64\n",
    "import pandas as pd\n",
    "import time\n",
    "import json\n",
    "\n",
    "from multiprocessing import Pool"
   ]
  },
  {
   "cell_type": "code",
   "execution_count": 2,
   "id": "cac34b28-49d7-40b3-a344-3c4070d29ba9",
   "metadata": {},
   "outputs": [],
   "source": [
    "# Show retriever Class\n",
    "class ShowRetriever:\n",
    "    def __init__(self):\n",
    "        self.show_id = None\n",
    "        self.client_id = \"e72a0925bf1a4699a4ed62a8ee3593ec\"\n",
    "        self.client_secret = \"6b24e502fc694859805181ec4819d9df\"\n",
    "        self.auth_response = None\n",
    "        self.auth_header = base64.b64encode(f'{self.client_id}:{self.client_secret}'.encode()).decode('utf-8')\n",
    "        self.headers = {\n",
    "            'Authorization': f'Basic {self.auth_header}'\n",
    "        }\n",
    "        self.payload =  payload = {\n",
    "            'grant_type': 'client_credentials'\n",
    "        }\n",
    "        self.descs = []\n",
    "        self.titles = []\n",
    "        self.dates = []\n",
    "        \n",
    "    #url = f'https://api.spotify.com/v1/shows/{show_id}/episodes?offset=1&limit=20'\n",
    "        \n",
    "    def authenticate(self):\n",
    "        \n",
    "       \n",
    "        response = requests.post('https://accounts.spotify.com/api/token', data=self.payload, headers=self.headers)\n",
    "        \n",
    "        self.auth_response = response\n",
    "\n",
    "    def retrieve_episodes(self, show, offset, limit):\n",
    "        \n",
    "        while self.auth_response.status_code != 200:\n",
    "            self.authenticate()\n",
    "            time.sleep(2)\n",
    "            \n",
    "    \n",
    "        url = f'https://api.spotify.com/v1/shows/{show}/episodes?offset={offset}&limit={limit}'\n",
    "        access_token = self.auth_response.json()['access_token']\n",
    "        #print(access_token)\n",
    "        headers = {\n",
    "            'Authorization': f'Bearer {access_token}'\n",
    "        }\n",
    "        response = requests.get(url, headers=headers)\n",
    "    \n",
    "        if response.status_code == 200:\n",
    "            show_data = response.json()\n",
    "            for episode in show_data[\"items\"]:\n",
    "                self.descs.append(episode['description'])\n",
    "                self.titles.append(episode['name'])\n",
    "                self.dates.append(episode['release_date'])\n",
    "            \n",
    "        else:\n",
    "            print(response)\n",
    "        return response\n",
    "    def retrieve_all(self):\n",
    "        offset=0\n",
    "        limit=50\n",
    "        response = self.retrieve_episodes(self.show_id, offset, limit)\n",
    "        while response.status_code != 404:\n",
    "            offset += limit\n",
    "            response = self.retrieve_episodes(self.show_id, offset, limit)\n",
    "            "
   ]
  },
  {
   "cell_type": "markdown",
   "id": "07b0d557-7b76-4171-a61d-1dac62130553",
   "metadata": {},
   "source": [
    "## Data retrieval for JRE\n",
    "Using the ShowRetriever class along with the JRE podcast ID. Retrieval continues until receiving a response 404 from the API"
   ]
  },
  {
   "cell_type": "code",
   "execution_count": 4,
   "id": "8d0cb987-03bf-4b07-9a58-5081cfaf58fc",
   "metadata": {},
   "outputs": [
    {
     "name": "stdout",
     "output_type": "stream",
     "text": [
      "<Response [404]>\n"
     ]
    }
   ],
   "source": [
    "SR = ShowRetriever()\n",
    "SR.authenticate()\n",
    "SR.show_id = '4rOoJ6Egrf8K2IrywzwOMk'\n",
    "SR.retrieve_all()"
   ]
  },
  {
   "cell_type": "markdown",
   "id": "f4f3de92-7962-47ce-a2cc-10792b40561f",
   "metadata": {},
   "source": [
    "## Initiailizing HuggingFace NER\n",
    "Download and setup a pretrained NER model from huggingface, along with a small test. (understand the warning and determine if it has an implication for our purposes)"
   ]
  },
  {
   "cell_type": "code",
   "execution_count": 3,
   "id": "c4a80e5b-7cb4-4733-8b44-cb341243ee9d",
   "metadata": {},
   "outputs": [
    {
     "name": "stderr",
     "output_type": "stream",
     "text": [
      "C:\\Users\\Nedan\\anaconda3\\envs\\CTools\\lib\\site-packages\\tqdm\\auto.py:21: TqdmWarning: IProgress not found. Please update jupyter and ipywidgets. See https://ipywidgets.readthedocs.io/en/stable/user_install.html\n",
      "  from .autonotebook import tqdm as notebook_tqdm\n",
      "Some weights of the model checkpoint at dslim/bert-large-NER were not used when initializing BertForTokenClassification: ['bert.pooler.dense.weight', 'bert.pooler.dense.bias']\n",
      "- This IS expected if you are initializing BertForTokenClassification from the checkpoint of a model trained on another task or with another architecture (e.g. initializing a BertForSequenceClassification model from a BertForPreTraining model).\n",
      "- This IS NOT expected if you are initializing BertForTokenClassification from the checkpoint of a model that you expect to be exactly identical (initializing a BertForSequenceClassification model from a BertForSequenceClassification model).\n"
     ]
    },
    {
     "name": "stdout",
     "output_type": "stream",
     "text": [
      "[{'entity': 'B-PER', 'score': 0.9994892, 'index': 4, 'word': 'Wolfgang', 'start': 14, 'end': 22}, {'entity': 'I-PER', 'score': 0.99953365, 'index': 5, 'word': 'Wei', 'start': 23, 'end': 26}, {'entity': 'I-PER', 'score': 0.9209705, 'index': 7, 'word': '##uer', 'start': 29, 'end': 32}, {'entity': 'B-PER', 'score': 0.99950886, 'index': 9, 'word': 'Max', 'start': 37, 'end': 40}, {'entity': 'I-PER', 'score': 0.99947387, 'index': 10, 'word': 'Sc', 'start': 41, 'end': 43}, {'entity': 'I-PER', 'score': 0.9962214, 'index': 11, 'word': '##hr', 'start': 43, 'end': 45}, {'entity': 'I-PER', 'score': 0.97856665, 'index': 12, 'word': '##eck', 'start': 45, 'end': 48}, {'entity': 'B-LOC', 'score': 0.9985958, 'index': 18, 'word': 'Berlin', 'start': 65, 'end': 71}]\n"
     ]
    }
   ],
   "source": [
    "from transformers import AutoTokenizer, AutoModelForTokenClassification\n",
    "from transformers import pipeline\n",
    "tokenizer = AutoTokenizer.from_pretrained(\"dslim/bert-large-NER\")\n",
    "model = AutoModelForTokenClassification.from_pretrained(\"dslim/bert-large-NER\")\n",
    "\n",
    "nlp = pipeline(\"ner\", model=model, tokenizer=tokenizer)\n",
    "example = \"Our names are Wolfgang Weibhauer and Max Schreck, and we live in Berlin\"\n",
    "\n",
    "ner_results = nlp(example)\n",
    "print(ner_results)"
   ]
  },
  {
   "cell_type": "markdown",
   "id": "5d78c773-09cf-4cf5-9085-eae69b13a7ec",
   "metadata": {},
   "source": [
    "## Running the NER on the descriptions\n",
    "\n",
    "Descriptions stored in the ShowRetriever object as SR.descs are processed with NER, the model results being stored in a list. Multiprocessing used to speed up this process. (Only checks for the word 'podcast' existing in the desc, might need some other, better checks, or simply perform on all descs and lookup names in a list of podcasters)"
   ]
  },
  {
   "cell_type": "code",
   "execution_count": 4,
   "id": "319f37c2-bf51-453e-8a2f-ab0040c0fc63",
   "metadata": {},
   "outputs": [],
   "source": [
    "# Function to run NLP/NER only if the word Podcast exists in the description\n",
    "def ner_on_descs(desc):\n",
    "    if 'podcast' in desc:\n",
    "        result = nlp(desc)\n",
    "    else:\n",
    "        result = ''\n",
    "    return result"
   ]
  },
  {
   "cell_type": "code",
   "execution_count": 5,
   "id": "32cbfa19-8721-49f5-8d05-d0d256f243ae",
   "metadata": {
    "scrolled": true
   },
   "outputs": [
    {
     "ename": "NameError",
     "evalue": "name 'SR' is not defined",
     "output_type": "error",
     "traceback": [
      "\u001b[1;31m---------------------------------------------------------------------------\u001b[0m",
      "\u001b[1;31mNameError\u001b[0m                                 Traceback (most recent call last)",
      "Cell \u001b[1;32mIn[5], line 9\u001b[0m\n\u001b[0;32m      6\u001b[0m \u001b[38;5;66;03m# Create a Pool of processes\u001b[39;00m\n\u001b[0;32m      7\u001b[0m \u001b[38;5;28;01mwith\u001b[39;00m Pool(num_processes) \u001b[38;5;28;01mas\u001b[39;00m pool:\n\u001b[0;32m      8\u001b[0m     \u001b[38;5;66;03m# Use pool.map to apply the function to each item in the list\u001b[39;00m\n\u001b[1;32m----> 9\u001b[0m     results \u001b[38;5;241m=\u001b[39m pool\u001b[38;5;241m.\u001b[39mmap(ner_on_descs, \u001b[43mSR\u001b[49m\u001b[38;5;241m.\u001b[39mdescs)\n\u001b[0;32m     11\u001b[0m \u001b[38;5;66;03m# Results will contain the processed data in the same order as the input list\u001b[39;00m\n\u001b[0;32m     12\u001b[0m \u001b[38;5;28mprint\u001b[39m(results)\n",
      "\u001b[1;31mNameError\u001b[0m: name 'SR' is not defined"
     ]
    }
   ],
   "source": [
    "# Parallel processing\n",
    "if __name__ == '__main__':\n",
    "    # Number of processes to be used (you can adjust this based on your system)\n",
    "    num_processes = 7\n",
    "\n",
    "    # Create a Pool of processes\n",
    "    with Pool(num_processes) as pool:\n",
    "        # Use pool.map to apply the function to each item in the list\n",
    "        results = pool.map(ner_on_descs, SR.descs)\n",
    "\n",
    "    # Results will contain the processed data in the same order as the input list\n",
    "    print(results)"
   ]
  },
  {
   "cell_type": "markdown",
   "id": "f583595c-0310-411e-a5ef-f03c795bd641",
   "metadata": {},
   "source": [
    "## Extracting Name Strings from NER Results\n",
    "Function that takes in one NER result (list of dicts) and returns the names as a list of strings. Multiprocessing again."
   ]
  },
  {
   "cell_type": "code",
   "execution_count": 5,
   "id": "259491ff-9a57-493e-9324-51271c102358",
   "metadata": {},
   "outputs": [],
   "source": [
    "def name_extraction_from_ner(ner_results):\n",
    "    output = ner_results\n",
    "    \n",
    "    person_names = []\n",
    "    current_name = \"\"\n",
    "    if output != '':\n",
    "        for i, token in enumerate(output):\n",
    "            if token['entity'] in ['B-PER', 'I-PER'] and not token['word'].startswith('##'):\n",
    "                current_name += ' '\n",
    "            if token[\"entity\"] in [\"B-PER\", \"I-PER\"]:\n",
    "                current_name += token['word'].replace('##', '')\n",
    "        \n",
    "            if i == len(output) - 1 or (i + 1 < len(output) and output[i + 1]['entity'] not in ['I-PER', 'B-PER']):\n",
    "                if current_name:\n",
    "                    person_names.append(current_name.strip())  # Strip leading and trailing spaces before appending\n",
    "                    current_name = \"\"\n",
    "        \n",
    "    #print(\"Extracted Person Names:\", person_names)\n",
    "    return person_names\n",
    "\n",
    "\n"
   ]
  },
  {
   "cell_type": "code",
   "execution_count": 18,
   "id": "d376fff5-aff5-4a61-a8d6-8bb72b425cc5",
   "metadata": {
    "scrolled": true
   },
   "outputs": [
    {
     "name": "stdout",
     "output_type": "stream",
     "text": [
      "[['Mike Baker'], [], [], ['Whitney Cummings'], [], [], [], [], [], [], [], [], [], [], [], ['Joe Bryan Callen Brendan Schaub Eddie Bravo Bryan Callen', 'Bryan Callen', 'Brendan Schaub', 'Eddie Bravo', 'Eddie Bravo'], ['Ehsan Ahmad', 'ehjah'], ['Coleman Hughes', 'Coleman Coleman', 'co'], [], [], ['Brian Redban'], [], [], [], ['Francis Foster Konstantin Kisin'], ['Joe List Mark Normand'], [], [], ['Eddie Bravo', 'Eddie Bravo'], [], [], [], [], [], ['Brian Simpson', 'Brian Simpson'], [], [], ['Joe Bryan Callen Brendan Schaub Sam Tripoli Bryan Callen', 'Bryan Callen', 'Brendan Schaub', 'Sam Tripoli', 'Sam Tripoli', 'Sam Tripoli'], [], ['Luis J . Gomez', 'Big Jay Oakerson Dave Smith', 'Zac Amico l'], ['Shane Matt Shane', 'Matt McCusker Gilly and Keeves John McKeever', 'sMark', 'Joe List', 'Sam Morril', 'ri', 'Ari Shaffir', 'aris'], ['Bill Maher', 'Maher'], [], [], [], ['Dave Smith', 'Dave Smith'], [], ['Brian Keating', 'Brian Keating'], [], ['Jeremy Phil Gerber', 'Josh Henning'], ['Mike Baker'], [], ['Tim Dillon', 'Tim Dillon'], [], [], ['Bryan Callen', 'Bryan Callen'], [], [], [], [], [], ['Gad Saad', 'Saad'], [], [], ['Duncan Trussell', 'Trussell', 'duantell'], [], [], ['Brian Simpson', 'Brian Simpson'], [], ['Joe Matt Serra Din Thomas John Rallo Matt', 'Jim Norton', 'Din', 'Din', 'John', 'dinoma'], ['Tom Segura', 'Christina Pazsitsky', 'Bert Kreischer Tom Segura', 'Tom Segura', 'ms'], [], [], [], [], [], ['Duncan Trussell', 'Trussell', 'duantell'], [], [], ['Cameron Hanes Cameron Hanes'], ['Andy Stumpf', 'Andy Stumpf'], [], ['Theo Von', 'Theo Von'], [], [], [], ['Shane Gillis Mark Normand Ari Shaffir Shane Matt and Shane', 'Matt McCusker Shane Gillis', 'Gilly', 'Keeves John McKeever geves sgillMark', 'Joe List', 'Sam Morril Mark Normand', 'Mark markri', 'Ari Shaffir', 'arishair'], ['Bert Kreischer', 'Tom Segura'], [], [], [], [], ['Jack Carr'], [], ['Brian Redban'], ['Kim Congdon Sara Weinshenk', 'Kimcongdon sa'], [], [], [], [], ['Ms Pat', 'Ms Pat'], ['Dave Smith'], [], [], [], ['Joey Diaz Joey', 'Joey Diaz'], [], ['Howie Mandel Jackelyn Shultz Howie Mandel howiemand'], [], ['Sam Tallent'], [], [], [], ['Big Jay Oakerson', 'Ari Shaffir', 'Ari Shaffir', 'risha'], [], [], [], ['Eddie Huang'], ['Peter Attia', 'Bill Gifford'], ['Andrew Schulz', 'Aash Singh', 'Charlgne Tha God'], [], [], ['Andrew Huberman', 'Andrew'], [], [], [], ['Bert Kreischer', 'Tom Segura Bert', 'Bert Kreischer', 'bebert'], ['Duncan Trussell', 'Trussell', 'duantell'], ['Michael Malice', 'Kim Jong Il'], [], [], ['Russell Brand Russell Brand'], ['Tony Hinchcliffe Brian Redban', 'Tony Brian Redban'], ['Chris Distefano', 'Sal Vulcano'], ['Shane Gillis Mark Normand Ari Shaffir Shane Matt and Shane', 'Matt McCusker Shane Gillis', 'Gilly', 'Keeves John McKeever gdkeeves s Mark', 'Joe List', 'Sam Morril Mark Normand', 'mark Ari', 'Ari Shaffir'], ['Eric Weinstein', 'erweinstein'], ['Ryan Long'], [], [], ['Bridget Phetasy', 'Jeren Montgomery'], ['Matt Taibbi', 'Walter Kirn'], [], [], ['B - Real'], [], [], ['Kstal Ball Saagar Enjeti'], [], [], [], [], [], [], ['Adam Curry', 'John C Dak'], [], [], [], [], [], [], ['Andrew Santino', 'Bobby Lee Andrew Santino'], [], [], [], [], ['Bret Weinstein Heather Heying'], [], [], ['Jon Bernthal Shane Walsh', 'Frank Castle', 'Wayne Jenkins', 'Bernthal', 'Jon Bernthal'], ['Brian Simpson', 'Brian Simpson'], [], ['Brian Redban'], [], [], [], ['Stavros Halkias', 'Stavros Halkias'], [], ['Shane Gillis Mark Normand Ari Shaffir Shane Matt and Shane', 'Matt McCusker Shane Gillis', 'Gilly', 'Keeves John McKeever gdeves sgill Mark', 'Joe List', 'Sam Morril Mark Normand', 'Ari', 'Ari Shaffir'], [], ['Derek'], [], ['Kurt Metzger Kurt Metzger k'], [], ['Danny Brown', 'Danny Brown', 'x'], [], ['Steve - O', 'Steve - O'], ['Yannis Pappas', 'Yannis Pappas', 'ya'], [], [], ['Graham Hancock', 'Randall Carlson', 'gcock', 'lson'], [], [], [], [], ['Ari Shaffir Tom Segura Bert Kreischer Ari', 'Ari Shaffir', 'Tom Bert', 'Tom Christina Pazsitzky', 'Tom Segura', 'Bert', 'Bert', 'arishaffir'], ['Duncan Trussell Duncan Trussell', 'duantell'], ['Bridget Phetasy', 'Jeren Montgomery'], ['Phil McGraw', 'Phil'], [], ['Michael Shermer', 'Michael Shermer'], [], ['Robert Kelly', 'Robert Kelly', 'robe'], ['Mike Saille', 'Andy Stumpf'], [], [], ['Iliza Shlesinger Iliza', 'il'], [], ['Tulsi Gabbard', 'Tulsi Gabbard tsigabba'], ['Ari Shaffir Tom Segura Bert Kreischer Ari', 'Ari Shaffir', 'Tom Bert', 'Tom Christina Pazsitzky', 'Tom Segura', 'Bert', 'Bert', 'arishair to'], [], [], ['Greg Fitzsimmons', 'gzsions'], ['Dave Smith'], [], [], [], ['Tony Hinchcliffe', 'Hans Kim', 'Hans Kim', 'ychcliffe'], [], ['Max Lugavere'], [], [], ['Sam Morril', 'Julian Edelman', 'sa'], [], [], [], ['Shane Gillis Mark Normand Ari Shaffir Shane Matt and Shane', 'Matt McCusker Shane Gillis', 'Gill', 'John McKeever geves s Mark', 'Joe List', 'Sam Morril Mark Normand', 'Ari', 'Ari Shaffir', 'Ari Shair'], [], [], [], [], [], [], ['Louis C K Joe List', 'louis Joe List', 'Mark Normand Joe List'], [], [], ['Nate Bargatze Nate'], [], [], [], ['Sam Tripoli', 'Sam Tripoli', 'Sam Tripoli'], ['Chris Williamson'], ['Whitney Cummings', 'Whitney Cummings', 'whitney'], [], ['Francis Foster Konstantin Kisin', 'Kisin'], ['Theo Von', 'Theo Von'], ['Andrew Schulz'], [], [], ['Tom Segura', 'Christina Pazsitzky', 'Bert Kreischer', 'Tom Segura'], ['Paul Virzi', 'ir', 'Bill Burr', 'p'], [], ['Brian Redban'], [], ['Duncan Trussell Duncan Trussell', 'duantell'], ['Brian Simpson', 'Brian Simpson'], [], [], ['Ryan Holiday', 'Zeno Marcus Aurel'], [], ['Shane Gillis Mark Normand Ari Shaffir Shane Matt and Shane', 'Matt McCusker Shane Gillis', 'Mark', 'Joe List', 'Sam Morril Mark Normand', 'Ari', 'Ari Shaffir'], [], [], [], ['Meghan Murphy'], [], [], ['Joe Aljamain Sterling'], [], ['Fahim Anwar', 'ahim Anwar'], [], [], [], ['Chris DiStefano Chrissy Chaos', 'Sal Vulcano'], ['Bert Kreischer', 'Bert', 'Tom Segura Tony Hinchcliffe Brian Redban', 'Tony'], ['Jack Carr'], ['Cameron Hanes', 'Cameron Hanes'], ['Christina P', 'Tom Segura'], ['Bryan \" Hotep Jesus \" Sharpe Hoteps'], ['Gad Saad', 'Saad'], [], ['Radio Rahim'], ['Tony Hinchcliffe Brian Redban', 'Tonychcliffe'], [], [], ['Brendan Schaub', 'Scha'], ['Remi Warren', 'Remi Warren'], [], ['Jessica Kirson', 'kirson'], [], [], [], ['Duncan Trussell Duncan Trussell', 'duantell'], ['Mike Tyson', 'Mike Tyson'], [], ['Bill Maher', 'Maher'], ['Greg Fitzsimmons', 'Mike Gibbons', 'Alison Rosen'], ['Shane Gillis Mark Normand Ari Shaffir Shane Matt and Shane', 'Matt McCusker Shane Gillis', 'Mark', 'Joe List Mark Normand', 'Ari', 'Ari Shaffir'], [], [], [], ['Yannis Pappas', 'Yanni'], [], [], [], [], [], [], [], [], [], ['Tom Papa', 'Tom Papa Fortune Feimster', 'Papa Fortune'], [], [], [], [], [], ['Diana Rodgers', 'Robb Wolf', 'Nicki Violetti'], ['Ben Burgis', 'Christopherchens'], [], ['Coleman Hughes', 'Coleman'], [], ['Michael Osterholm'], ['Joey Diaz Joey'], [], [], ['Dave Smith'], [], ['Akaash Singh Andrew Schulz'], ['Randall Carlson'], ['Andy Stumpf'], [], [], [], [], [], ['James Lindsay', 'Charles Pincourt'], [], [], ['Shane Gillis Mark Normand Ari Shaffir Mark', 'Joe List Mark Normand', 'Ari', 'Ari Shaffir', 'Shane Matt and Shane', 'Matt McCusker Shane Gillis'], ['H R . McMaster'], ['Josh Szeps', 'Josh Szeps', 'Josh Szeps'], [], ['Adam Curry', 'John C Dvorak'], [], [], [], [], [], [], ['Brian Redban'], ['Tim Dillon', 'Tim Dillon'], ['Brian Simpson', 'Brian Simpson'], ['Ari Shaffir', 'Ari Shaffir', 'Tony Hinchcliffe Brian Redban'], [], [], [], [], [], [], ['Matt Taibbi', 'Matt Taibbi Katie Halper'], ['Derek'], [], [], [], [], [], [], ['Tim Pool'], ['Tristan Harris', 'Aza Raskin Daniel Schmachtenberger'], ['Peter Attia'], [], [], [], ['Theo Von', 'Theo Von Brendan Scub'], ['Cameron Hanes', 'Cameron Hanes'], [], ['Shane Gillis Mark Normand Ari Shaffir Shane Matt Shane', 'Matt McCusker Shane Gillis', 'Mark', 'Joe List Mark Normand', 'Ari', 'Ari Shaffir'], [], [], ['Bridget Phetasy'], [], [], [], [], ['Michael Malice', 'Kim Jong Il'], ['Tony Hinchcliffe Brian Redban'], [], ['Sanjay Gupta'], [], ['Steven Rinella'], ['Jessica Kirson', 'Kirson Rachel Feinstein'], [], [], ['Bert Kreischer', 'Tom Segura'], ['Bert Kreischer', 'Tom Segura'], [], [], ['Amanda Knox', 'Knox Christopher Robinson'], [], ['Kyle Dunnigan Kurt Metzger', 'Dunnigan', 'Kyle Dunnigan', 'Metzger', 'Kurt Metzger'], [], [], [], ['Tom Segura', 'Tom Segura'], [], ['Rhonda Patrick'], ['Eleanor Kerrigan'], ['Meghan Murphy'], [], ['Zuby', 'Zuby'], [], ['Andrew Schulz'], ['Pat', 'Jordan E Cooper'], [], ['Evan Hafer'], [], [], [], ['Jessimae Peluso'], ['Yannis Pappas', 'Yanni'], ['Greg Fitzsimmons', 'Mike Gibbons', 'Alison Rosen'], [], ['Ari Shaffir'], [], [], [], ['Jesse Singal'], ['Brian Simpson', 'Brian Simpson'], [], ['Adam Curry', 'John C Dvorak'], [], ['Tim Dillon', 'Tim Dillon'], [], [], ['Clay Newcomb'], [], ['Iliza Shlesinger Iliza'], ['Pierre Kory', 'Bret Weinstein', 'Heather Heying'], [], [], [], ['Kstal Ball Sagaar Enjeti'], ['Annie Lederman', 'ede'], ['Duncan Trussell Duncan Trussell'], [], [], [], ['Tom Papa', 'Tom Papa Fortune Feimster', 'Papa Fortune'], [], [], [], [], [], [], [], [], [], ['Whitney Cummings'], [], [], ['Joe List', 'Mark Normand Joe List'], ['Russell Peters'], [], [], ['Dave Chappelle', 'Talib Kweli Yain Bey'], [], [], ['Ethan Suplee'], [], [], ['Andrew Santino', 'Bobby Lee'], ['Matty Matheson'], [], ['Dave Smith'], [], [], [], [], [], ['Jack Carr'], ['Ali Macofsky'], ['Tom Segura', 'Tom Segura'], [], [], ['Dan Crenshaw', 'Dan Crenshaw'], [], ['Eric Weinstein'], [], ['Alex Honnold Fitz Cahall'], [], [], [], ['Marcus Luttrell'], [], [], ['Nate Bargatze Nate'], [], [], [], [], [], [], [], [], [], [], [], [], [], [], [], [], [], ['Michael Malice', 'Kim Jong Il'], [], [], [], [], [], ['Brendan Schaub'], [], ['Brian Redban'], ['Lex Fridman', 'Lex Frid'], [], [], [], [], [], ['Yannis Pappas Chris Difano'], [], [], [], [], [], [], ['Mark Normand', 'Joe List'], ['Tony Hinchcliffe Brian Redban'], ['Michael Kosta', 'Trevor Noah', 'Michael Kosta'], [], [], [], [], ['Andrew Schulz', 'Schulz', 'Charlgne Tha God', 'Akaash Singh'], [], [], [], [], [], [], ['Matthew Yglesias', 'Yglesias'], [], [], [], [], ['Tom Green', 'Tom Green'], ['Donnell Rawlings', 'Donnell Rawlings', 'Dave Chappelle Chappelle'], [], [], [], ['Tony Hinchcliffe Brian Redban'], ['Dave Smith'], [], [], ['Steven Rinella'], [], [], ['Tristan Harris', 'Aza Raskin'], [], [], [], [], [], [], [], [], ['Tom Papa', 'Tom Papa Papa Fortune Feimster', 'Papa Fortune'], [], [], ['Mat Best Evan Hafer', 'Jred \" JT \" Taylor'], [], ['Tim Dillon', 'Tim Dillon'], [], ['Cameron Hanes', 'Cameron Hanes'], ['Bridget Phetasy'], [], [], [], ['Lex Fridman', 'Lex Fridman'], [], [], [], [], ['Adam Curry'], ['Mike Tyson', 'Mike Tyson', 'Tyson'], [], ['Duncan Trussell', 'Duncan Trussell'], ['Whitney Cummings', 'Annie Lederman'], ['Nikki Glaser', 'Nikki Glaser'], [], ['Ali Macofsky'], ['Tim Dillon', 'Tim Dillon'], ['Ron Funches', 'on funches'], ['Joey “ CoCo ” Diaz', 'Joey', 'Brian Redban'], ['Rob Lowe', 'Rob Lowe'], ['Josh Dubin', 'Jason Flom', 'Jason Flom'], ['Debra Soh'], [], ['David Choe'], [], [], [], [], [], [], [], [], [], ['Peter Schiff', 'Schiff', 'Peter Schiff'], ['Bob Saget Bob Saget'], [], [], [], ['Alan Levinovitz'], [], [], [], [], ['Aron Snyder'], [], [], [], [], [], ['Steve Scripa Michael Imperioli'], ['Jocko Willink'], ['Bill Burr'], [], [], ['Andrew Schulz', 'Charlamagnea God'], [], [], [], [], [], [], [], [], [], [], [], [], [], [], [], [], ['Bridget Phetasy'], ['Rhonda Patrick'], ['Tom Papa', 'Tom Papa'], ['Michael Yo Michael Yo'], [], ['Tony Hinchcliffe Tony Tony Brian Redban'], [], [], ['Alzo Bodden'], [], ['Jessimae Peluso', 'Jessimae Pelo'], [], ['Duncan Trussell', 'Duncan Trussell', 'Duncan T'], ['Tom Green', 'Tom Green', 'Tom Green'], ['Kurt Metzger'], [], ['Donnell Rawlings', 'Donnell Rawlings'], [], ['Tim Dillon', 'Tim Dillon'], [], [], ['Lex Fridman'], [], ['Eric Weinstein'], ['Greg Fitzsimmons Alison Rosen “'], [], ['Brian Redban'], ['Bryan Callen Brendan Schaub'], ['Joey “ CoCo ” Diaz', 'Joey'], ['Tom Segura Christina Pazsitzky'], ['Bert Kreischer'], ['Andy Stumpf'], ['Duncan Trussell', 'Duncan Trussell'], [], [], [], [], [], [], [], ['Andrew Santino', 'Dave', 'Bobby Lee'], ['Stephen Dubner'], ['Adam Curry'], [], [], [], [], [], [], ['Raghunath Cappo'], [], [], [], [], [], [], [], [], [], [], ['Lex Fridman'], ['Jim Norton Chip Chipperson', 'Jim'], ['Mark Normand Joe List'], [], [], [], [], [], [], [], [], [], [], [], [], [], [], ['Joey “ CoCo ” Diaz', 'Joey'], [], [], ['Michael Malice Michael Malice'], ['Brian Redban'], [], ['Bryan Callen Brendan Schaub'], [], [], [], [], ['Tony Hinchcliffe Tony Tony Redban'], [], [], [], [], [], ['Matt Farah'], ['James Wilks', 'Chris Kresser', 'Chris Kresser k'], [], [], [], [], ['Tim Dillon', 'Tim Dillon'], ['James Wilks', 'Chris Kresser Chris Kresser', 'Chris Kresser k'], [], [], ['Matt Taibbi'], [], ['Ari Shaffir Ari Sffir'], ['Malcolm Gladwell'], ['RZA', 'Donnell Rawlings'], ['Donnell Rawlings', 'Donnell Rawlings'], [], ['Pete Dominick', 'Pete Dominick'], [], ['Greg Fitzsimmons Alison Rosen “'], [], [], [], [], [], ['Kevin Smith'], ['Andrew Santino'], [], [], ['Christopher Ryan'], [], ['Bridget Phetasy'], [], ['Cameron Hanes', 'Cameron Hanes'], ['Brian Redban'], [], [], [], [], ['Nikki Glaser'], [], [], ['Ari Shaffir Ari Sffir'], [], ['Mark Normand', 'Joe List'], [], [], [], ['Sean Carroll', 'Sean Carroll'], [], [], [], ['Bill Burr'], [], [], ['Zuby', 'Zuby'], [], [], [], ['Penn Jillette Teller Penn', 'Teller Penn'], [], ['Steven Rinella'], [], [], [], [], [], [], ['Big Jay Oakerson Luis J . Gomez Dave Smith'], [], [], [], [], [], ['Annie Lederman'], [], [], [], [], [], [], [], [], [], [], [], ['Ian Edwards', 'Bill Burr Ian Talk'], [], [], [], ['Eric Weinstein'], [], ['Joey “ CoCo ” Diaz', 'Joey'], [], ['Andrew Santino'], [], [], [], [], ['Charlamagne tha God Andrew Schulz'], ['Duncan Trussell', 'Duncan Trussell'], ['Pat'], [], [], [], [], [], ['Greg Fitzsimmons Alison Rosen “'], [], [], [], [], ['Brendan Schaub Bryan Callen', 'Theo Von'], [], [], ['Michael Malice Michael Malice'], [], ['Neal Brennan “ Chappelle', 'Dave Chappelle'], [], ['Joe List', 'Mark Normand'], [], [], ['Andrew Santino'], [], [], ['Bryan Callen Brendan Schaub'], [], ['Jon Reep', 'Jon Reep'], [], [], [], [], [], [], ['Russell Brand'], [], [], [], ['Tom Papa'], [], [], ['Jessimae Peluso'], [], [], [], [], ['Luis J . Gomez', 'Believe', 'Michael Bisping', 'Luis J . Gomez Luis J . Gomez'], [], [], [], [], [], ['Bryan Callen Brendan Schaub'], [], [], [], [], ['Andrew Schulz'], [], [], [], [], [], [], [], [], [], [], [], [], [], ['Tim Dillon Tim Dillon'], [], ['Donnell Rawlings'], [], ['Andy Stumpf'], [], [], [], [], [], [], ['Sam Harris'], [], [], ['Brian Redban'], ['Sebastian Maniscalco Pete Correale Pete and Sebastian'], [], [], [], [], [], [], [], [], [], [], [], [], ['Mike Tyson', 'Mike Tyson'], [], ['Theo Von', 'Brendan Schaub'], ['Adam Greentree'], ['Greg Fitzsimmons Alison Rosen'], [], [], [], [], [], ['Joey “ CoCo ” Diaz', 'Joey'], ['Bill Burr'], [], [], ['Ben O ’ Brien'], [], [], [], [], [], [], [], ['Tom Papa'], [], [], [], [], [], ['Jake \" The Snake \" Roberts', 'Jake The Snake Tony Hinchcliffe Tony Red'], ['Steven Rinella'], [], [], [], [], ['Tom Segura Christina P', 'Sean Anders'], [], [], [], ['Christina P Tom Segura'], [], [], [], ['Tony Hinchcliffe Tony Tony Brian Redban'], [], ['Joey “ CoCo ” Diaz', 'Joey'], [], [], [], [], [], [], [], [], [], [], [], ['John Dudley'], [], ['Nikki Glaser', 'Nikki Glaser'], [], ['Rhonda Patrick'], [], [], [], [], [], [], [], [], [], [], [], [], [], [], [], [], [], [], [], [], [], [], [], [], [], [], [], [], ['Macaulay Culkin'], [], [], [], ['Sean Carroll', 'Sean Carroll'], ['Felipe Esparza'], [], [], ['Debra Soh Jonathan Kay'], [], [], ['Peter Schiff', 'Schiff', 'Peter Schiff'], ['Doug Stanhope', 'Doug Stanhope'], ['Candice Thompson', 'Candice Thompson'], [], [], [], [], ['Joey “ CoCo ” Diaz', 'Joey'], [], [], ['Duncan Trussell', 'Duncan Trussell', 'duantell'], [], ['Ari Shaffir Ari Shaffir', 'Ari'], [], [], [], [], [], [], [], [], [], [], [], [], [], [], ['Kevin Smith'], [], [], [], [], [], [], [], [], ['Theo Von'], [], [], [], [], [], ['Brian Redban'], [], ['Cameron Hanes', 'Cameron Hanes'], [], [], [], [], [], [], [], [], [], [], [], ['Matt Farah'], [], [], [], [], ['Christopher Ryan'], [], [], ['Big Jay Oakerson Luis J . Gomez Dave Smith'], ['Todd Glass', 'Todd Glass'], ['T J . English', 'Joey “ CoCo ” Diaz', 'Joey'], [], [], ['Brian Redban'], [], ['Daniele Bolelli'], [], [], ['John Dudley'], [], ['Bryan Callen Brendan Schaub'], [], [], [], [], ['Dom Irrera Dom Irrera'], ['Greg Fitzsimmons', 'zsions'], [], [], ['Tony Hinchcliffe Tony', 'Tony Brian Redban'], [], [], [], [], ['Duncan Trussell', 'Duncan Trussell'], [], ['Cameron Hanes', 'Cameron Hanes'], [], ['Joey “ CoCo ” Diaz', 'Joey'], ['Steven Crowder', 'NotGay Jared Crow'], [], [], [], [], [], [], [], [], [], [], [], [], ['Tom Segura Christina Pazsitzky'], [], ['Tom Papa'], [], [], [], ['Brian Redban', 'Brian Redban', 'Jesse Watson'], [], ['Eddie Pepitone'], [], ['Joe Rogan', 'Brendan Schaub Bryan Callen'], [], [], ['Rhonda Patrick'], [], [], [], ['Duncan Trussell', 'Duncan Trussell', 'Christopher Ryan'], [], [], [], ['Doug Stanhope Doug Stanhope'], ['Andy Stumpf'], [], [], ['Bryan Callen Brendan Schaub'], [], ['Brian Redban', 'Brian Redban'], [], ['Kstyna Hutchinson Corinne Fisher'], [], ['Dan Carlin'], [], [], [], ['Chris Kresser'], [], [], [], [], [], ['Joey “ CoCo ” Diaz', 'Joey'], [], ['Adam Greentree'], [], ['Brian Redban', 'Brian Redban'], [], ['Greg Fitzsimmons'], ['Bert Kreischer'], ['Christina P Tom Segura'], [], ['Russell Brand'], [], [], ['Alzo Bodden'], [], [], [], ['Dave Smith'], ['Cameron Hanes', 'Cameron Hanes'], [], [], ['Tom Papa'], ['Brian Redban', 'Brian Redban'], [], [], [], [], [], ['Hannibal Buress'], ['W . Kamau Bell', 'W . Kamau Bell'], [], [], ['Peter Schiff', 'Schiff', 'Peter Schiff'], [], ['Joey “ CoCo ” Diaz', 'Joey', 'Tom Segura Christina Pazsitzky'], [], [], [], [], ['Jon Ronson', 'Jon Ronson'], [], [], ['Ian Edwards'], [], [], [], [], ['Ari Shaffir Joe Ari'], [], [], [], [], [], [], [], [], [], [], [\"Joe Ben O ' Brien John Dudley Sam Soholt Shane Dorian\"], [], [], [], ['Ari Shaffir Ari Sffir'], ['Steven Rinella'], [], [], [], [], ['Bill Burr'], [], ['Tom Papa'], [], [], [], [], [], [], [], [], [], [], ['Al Madrigal', 'Stewart', 'Bill Burr'], [], [], ['Thaddeus Russell'], [], [], [], ['Brendan Schaub', 'Eddie Bravo'], [], [], [], [], [], [], ['Greg Fitzsimmons'], ['Sam Harris', 'Dan Harris', 'Dan'], [], [], [], [], [], ['John Dudley'], [], [], [], [], [], [], [], ['Tom Papa'], ['Joey “ CoCo ” Diaz', 'Joey', 'Alberto Gallazzi'], [], [], [], [], [], ['Frank Castillo'], ['Steven Crowder', 'Crowder', 'StevenCrowder'], [], [], [], ['Christopher Ryan'], [], ['Bill Burr'], [], [], [], [], [], [], ['Joe Tony Hinchcliffe Redban'], [], ['Rhonda Patrick'], [], [], ['Bryan Callen Brendan Schaub'], ['Bas Rutten Mauro Ranallo', 'Rutt', 'Rana'], ['Hunter Maats', 'Bryan Callen'], [], [], [], [], ['Greg Fitzsimmons'], ['Zach Leary'], [], ['Brian Redban', 'Brian Redban'], [], [], [], ['Tom Segura Christina Pazsitzky'], ['Joey “ CoCo ” Diaz', 'J Joey'], ['Kevin Smith'], [], [], [], [], ['Steven Rinella'], ['Aubrey Marcus Aubrey Marcus'], [], [], [], [], [], [], ['Brendan Schaub Bryan Callen'], [], ['Bert Kreischer'], [], ['Joe John Dudley'], ['Joey “ CoCo ” Diaz', 'Joey'], ['Christine Hassler'], [], [], [], ['Duncan Trussell', 'Duncan Trussell'], [], ['Bryan Callen Brendan Schaub'], [], ['Brian Redban', 'Brian Redban'], [], [], [], ['Joe', 'Tony Hinchcliffe Young Jamie j Tony'], ['Tom Segura Christina Pazsitzky'], [], [], [], ['Shane Mauss Here', 'shanema'], [], [], ['Bryan Callen Brendan Schaub'], [], ['Dan Carlin'], [], ['TJ Dillashaw', 'Duane Ludwig Bas Rutten', 'Mauro Ranallo Rutt', 'Ranallo'], [], ['Tony Hinchcliffe Tony', 'Tony Redban'], ['Chris Kresser'], [], ['Greg Fitzsimmons'], [], ['Tom Papa'], [], [], [], [], [], [], ['Brian Redban', 'Brian Redban'], [], [], [], [], [], ['Duncan Trussell Duncan Trussell'], [], [], [], ['Bryan Callen Brendan Schaub'], [], ['Chael Sonnen', 'Chael Sonnen'], [], ['Brendan Schaub Bryan Callen'], [], [], [], [], ['Ari Shaffir Ari Shaffir'], [], [], ['Jim Breuer'], [], [], ['Aubrey Marcus', 'Aubrey Marcus'], [], [], ['Dave Smith'], ['Steve Hofstetter', 's'], ['Sam Harris'], ['Joey “ CoCo ” Diaz', 'Lee Syatt'], [], ['Tom Papa'], [], [], [], ['Alison Rosen Alison Rosen'], [], [], ['Ian Edwards'], [], [], [], [], [], ['Dan Auerbach', 'j'], ['Brendan Schaub Bryan Callen'], [], [], ['Dom Irrera Dom Irrera'], ['Brian Redban', 'Brian Redban'], ['John Dudley'], [], [], [], ['Andrew Dice Clay', 'Joey Diaz', 'Joey'], ['Ari Shaffir Ari Shaffir'], ['Brian Redban', 'Brian Redban'], [], ['Greg Fitzsimmons'], [], ['Rhonda Patrick'], [], [], [], ['Bert Kreischer'], [], [], [], [], ['Duncan Trussell', 'Duncan Trussell'], [], [], [], ['Bas Rutten', 'Mauro Ranallo Rutten', 'Ranallolo'], [], ['Cameron Hanes', 'j'], ['Tom Papa Tom'], [], [], [], ['Daniele Bolelli'], ['Brian Redban', 'Brian Redban'], [], [], ['Doug Stanhope Doug Stanhope'], ['Carlos Condit', 'Ewan Le Corre'], [], ['Tony Hinchcliffe', 'Tony', 'Tony Redban'], ['Ari Shaffir Ari Shaffir'], ['Tom Segura Christina Pazsitzky'], [], ['Joey “ CoCo ” Diaz', 'Joey'], [], [], ['Duncan Trussell', 'Duncan Trussell', 'Christopher Ryan'], [], [], [], [], ['Brendan Schaub Bryan Callen'], [], [], ['Bert Kreischer'], [], [], [], [], ['Bill Burr'], [], [], [], ['Dana White', 'Tony Hinchcliffe Tony Redban'], ['Tony Hinchcliffe Tony Redban'], [], [], [], [], [], ['Daniele Bolelli'], [], [], [], [], ['Brian Redban'], [], ['Steven Crowder', 'Crowder'], [], ['Brendan Schaub Bryan Callen', 'Joe Brendan'], ['Brendan Schaub Bryan Callen', 'Joe Brendan'], [], ['Alzo Bodden'], ['Brian Redban'], [], [], [], [], [], [], [], [], ['Sebastian Maniscalco Pete Correale', 'Pete and Sebastian'], [], ['Tom Segura Christina Pazsitzky'], [], ['Bryan Callen Brendan Schaub'], [], [], ['Brian Redban'], [], [], [], [], ['Brian Redban'], [], [], [], [], [], [], [], [], [], [], [], ['Rhonda Patrick'], ['Brendan Schaub Bryan Callen'], [], ['Joey “ CoCo ” Diaz', 'Joey'], [], ['Kurt Metzger', 'Sherrod Small'], ['Duncan Trussell', 'Duncan Trussell'], [], [], [], [], [], ['Jim Fntine'], ['Dean Delray'], ['Greg Fitzsimmons'], [], ['Joe Cameron Hanes Cameron Hanes'], ['Bryan Callen Brendan Schaub'], [], [], [], [], [], [], [], [], [], [], ['Dom Irrera Dom Irrera'], [], [], ['Brad Williams Brad', 'Brad Williams'], [], [], [], ['Greg Proops'], [], [], ['Bryan Callen Brendan Schaub'], [], [], [], [], [], ['Joe Bryan Callen Bryan Callen Brendan Schaub'], [], ['Joe Tony Hinchcliffe', 'Tony Hinchcliffe Tony Redban'], [], ['Duncan Trussell', 'Duncan Trussell'], [], ['Garry Tonon', 'Eddie Bravo', 'Garry'], ['Joey “ CoCo ” Diaz', 'Joey'], [], [], ['Tom Segura Christina Pazsitzky'], ['Ari Shaffir Ari Sffir'], ['Adam Carolla', 'j'], [], ['Bert Kreischer'], ['Bryan Callen Brendan Scub'], [], ['Artie Lange ArtieQuit'], [], [], ['Greg Fitzsimmons'], ['Christopher Ryan'], [], [], ['Billy Corben', 'j'], [], ['Brian Cox', 'Robin Ince'], [], ['Ali Rizvi', 'ali a rizvi'], [], [], [], [], [], ['Ari Shaffir Ari Sffir', 'Duncan Trussell', 'Duncan Trussell', 'arishair duantrussell'], [], ['Ari Shaffir Ari Sffir', 'Ari Shair aris'], [], ['Joey “ CoCo ” Diaz', 'Joey'], [], [], [], [], ['Bert Kreischer'], ['Kevin Pereira'], [], [], [], [], [], ['Tony', 'Tony Hinchcliffe Redban Kimberly Congdon Sara Weinshenk'], [], [], ['Bill Burr'], [], [], [], [], ['Duncan Trussell', 'Duncan Trussell'], [], ['Matt Fulchiron'], [], ['Daniele Bolelli'], ['Dom Irrera Dom Irrera'], ['Josh Zepps'], [], ['Rhonda Patrick'], [], [], [], [], [], ['David Choe'], [], [], [], [], [], ['Bryan Callen Brendan Schaub'], ['Bryan Callen Brendan Schaub'], [], [], [], [], ['Joe Eddie Bravo', 'Brendan Schaub Bryan Callen'], [], [], [], [], ['Joe DeRosa', 'JoeDeRosa'], [], ['Tony Hinchcliffe Tony', 'Tony Brian Redban'], ['Dom Irrera Dom Irrera'], [], ['Greg Fitzsimmons'], [], [], ['Cara Santa Maria'], [], [], [], [], [], [], [], [], [], [], ['Rickson Gracie', 'Eddie Bravo', 'Eddie Bravo'], [], ['Joe Joey Diaz', 'Brendan Schaub Bryan Callen'], [], [], [], ['Brendan Schaub Bryan Callen Joe Brendan Bryan'], ['Matt Fulchiron'], [], [], [], [], [], ['Ari Shaffir Ari Shaffir'], ['Ari Shaffir Ari Shaffir'], [], ['Joey \" CoCo \" Diaz', 'Joey'], [], [], ['Tony Hinchcliffe Tony', 'Tony Brian Redban'], [], [], [], [], [], [], [], ['Rhonda Patrick'], [], ['Doug Stanhope', 'Doug Stanhope', 'Tom Rhodes Tom Rhodes'], [], [], [], [], [], ['Ian Edwards'], ['Brendan Schaub Bryan Callen Brendan Schaub'], ['Greg Fitzsimmons'], [], [], [], [], ['Brendan Schaub Bryan Callen Brendan Schaub'], [], [], [], [], ['Ari Shaffir Ari Shaffir'], ['Duncan Trussell', 'Duncan Trussell', 'Doug Lussenhop DJ Douggpound Tim', 'Eric Eric Andre'], [], ['Eddie Bravo Eddie Bravo'], [], [], [], [], [], [], [], [], [], ['Duncan Trussell', 'Duncan Trussell', 'Christopher Ryan'], [], ['Greg Fitzsimmons'], ['Greg Proops', 'Greg Proops'], [], ['Steven Rinella', 'Doug Duren Bryan Callen Bryan Callen', \"Will Sasso Chris D ' Elia\"], [], ['Rhonda Patrick'], [], ['Ari Shaffir Ari Shaffir'], [], ['Joey \" CoCo \" Diaz', 'Joey'], [], [], [], [], [], ['Tom Segura Christina Pazsitzky'], [], [], [], [], [], [], ['Dom Irrera Dom Irrera'], [], [], ['Scott Sigler', 'Scott'], [], [], [], ['Duncan Trussell', 'Duncan Trussell', 'Christopher Ryan'], ['Joey \" CoCo \" Diaz', 'Joey'], ['Matt Fulchiron'], ['Matt Fulchiron'], [], [], ['Tom Segura Christina Pazsitzky'], [], [], [], [], [], ['Greg Fitzsimmons'], [], ['Tom Rhodes', 'Tom Rhodes', 'Bryan Callen', 'Bryan Callen', 'Will Sasso Chris D ’ Elia'], ['Lorenzo Hagerty'], ['Lorenzo Hagerty'], ['Jeremy Stephens', 'Eddie Bravo', 'Eddie Bravo'], [], [], ['Justin Foster Foster'], [], [], ['Dan Carlin', 'Daniele Bolelli'], [], [], [], [], ['Todd Glass', 'Todd Glass'], [], ['Eddie Bravo', 'Eddie Bravo'], ['Tom Segura Christina Pazsitzky'], [], [], ['Greg Proops'], [], [], ['Bryan Callen', 'Bryan Callen', \"Will Sasso Chris D ' Elia\"], ['Doug Benson', 'Doug Doug', 'Doug'], ['Joey \" CoCo \" Diaz', 'Joey', 'Duncan Trussell', 'Duncan Trussell'], [], ['Sam Tripoli', 'Ari Shaffir Jason Thibault'], [], [], [], ['Matt Fulchiron'], ['Tom Segura Christina Pazsitzky'], [], ['Duncan Trussell', 'Duncan Trussell'], [], ['Brian Redban'], ['Mick West', 'Bryan Callen', 'Bryan Callen', \"Will Sasso Chris D ' Elia\"], [], ['Joey \" CoCo \" Diaz', 'Joey'], [], [], [], ['Greg Fitzsimmons'], [], [], [], ['Dan Carlin'], ['Duncan Trussell', 'Duncan Trussell'], ['Bryan Callen', 'Bryan Callen', \"Will Sasso Chris D ' Elia\"], ['Joey \" CoCo \" Diaz', 'Joey'], [], [], ['Ari Shaffir'], ['Jason Silva', 'Duncan Trussell Duncan Trussell', 'Ari Shaffir Ari Shaffir'], [], [], [], ['Tom Rhodes', 'Tom Rhodes'], [], ['Eddie Ifft', 'Eddie Ifft'], [], [], ['Daniele Bolelli'], [], ['Dom Irrera Dom Irrera'], ['Brian Redban'], [], [], [], ['Steven Rinella', 'Bryan Callen', 'Bryan Callen', \"Will Sasso Chris D ' Elia Cam Edwards Cam\"], ['Joey “ CoCo ” Diaz', 'Joey'], [], ['Bryan Callen', 'Bryan Callen', \"Will Sasso Chris D ' Elia\"], ['Bill Burr'], [], [], [], [], ['Scott Sigler', 'Scott'], [], [], [], [], ['Tom Segura Christina Pazsitzky'], [], ['Duncan Trussell', 'Duncan Trussell'], ['Dan Carlin'], [], ['Bryan Callen', 'Bryan Callen', \"Will Sasso Chris D ' Elia\"], [], [], ['Ari Shaffir Ari Shaffir'], [], [], [], ['David Choe', 'David Choe', 'Yoshi Obayashi Yoshi'], [], [], [], [], [], [], [], [], ['Bryan Callen', 'Bryan Callen', \"Will Sasso Chris D ' Elia\"], [], [], [], [], [], [], [], [], [], [], [], [], [], [], [], [], [], [], [], [], [], [], [], [], [], [], [], [], [], [], [], [], [], [], [], [], [], [], [], [], [], [], [], [], [], [], [], [], [], [], [], [], [], [], [], [], [], [], [], [], [], [], [], [], [], [], [], [], [], [], [], [], [], [], [], [], [], [], [], [], [], [], [], [], [], [], [], [], [], [], [], [], [], [], [], [], [], [], [], [], [], [], [], [], [], [], [], [], [], [], [], [], [], [], [], [], [], [], [], [], [], [], [], [], [], [], [], [], [], [], [], [], [], [], [], [], [], [], [], [], [], [], [], [], [], [], [], [], [], [], [], [], [], [], [], [], [], [], [], [], [], [], [], [], [], [], [], [], [], [], [], [], [], [], [], [], [], [], [], [], [], [], [], [], [], [], [], [], [], [], [], [], [], [], [], [], [], [], [], [], [], [], [], [], [], [], [], [], [], [], [], [], [], [], [], [], [], [], [], [], [], [], [], [], [], [], [], [], [], [], [], [], [], [], [], [], [], [], [], [], [], [], [], [], [], [], [], [], [], [], [], [], [], [], [], [], [], [], [], [], [], [], [], [], [], [], [], [], [], [], [], [], [], [], [], [], [], [], [], [], [], [], [], [], []]\n"
     ]
    }
   ],
   "source": [
    "if __name__ == '__main__':\n",
    "    # Number of processes to be used (you can adjust this based on your system)\n",
    "    num_processes = 7\n",
    "\n",
    "    # Create a Pool of processes\n",
    "    with Pool(num_processes) as pool:\n",
    "        # Use pool.map to apply the function to each item in the list\n",
    "        names = pool.map(name_extraction_from_ner, results)\n",
    "\n",
    "    # Results will contain the processed data in the same order as the input list\n",
    "    print(names)"
   ]
  },
  {
   "cell_type": "markdown",
   "id": "f0f79c17-2c0d-40b5-994c-c3a8b5641f71",
   "metadata": {},
   "source": [
    "## Find podcasts IDs by searching the spotify API using names\n",
    "The name format that works in a search query such that the first result is the correct podcast is \"FirstName+LastName\". Yet again, multiprocess.\n",
    "(Could be integrated into the ShowRetriever object, a lot of redundant stuff with the headers and IDs and secrets down here.) \n",
    "Using a horrible time.sleep to get around rate limiting."
   ]
  },
  {
   "cell_type": "code",
   "execution_count": 6,
   "id": "72115ae9-0f96-40aa-a82a-71fd0a69a585",
   "metadata": {},
   "outputs": [],
   "source": [
    "def show_search_by_name(name):\n",
    "    time.sleep(0.1)\n",
    "    show_id = None\n",
    "    if len(name) > 0:\n",
    "        query = name[0]\n",
    "        search_query = query.replace(' ', '%2B')\n",
    "    else:\n",
    "        return show_id\n",
    "    client_id='e72a0925bf1a4699a4ed62a8ee3593ec'\n",
    "    client_secret='6b24e502fc694859805181ec4819d9df'\n",
    "    \n",
    "    #show_id = '4rOoJ6Egrf8K2IrywzwOMk'\n",
    "    url = f'https://api.spotify.com/v1/search?q={search_query}&type=show&market=US'\n",
    "    #url = 'https://api.spotify.com/v1/search?q=JRE&type=show'\n",
    "    auth_header = base64.b64encode(f'{client_id}:{client_secret}'.encode()).decode('utf-8')\n",
    "    \n",
    "    headers = {\n",
    "        'Authorization': f'Basic {auth_header}'\n",
    "    }\n",
    "    \n",
    "    payload = {\n",
    "        'grant_type': 'client_credentials'\n",
    "    }\n",
    "    response = requests.post('https://accounts.spotify.com/api/token', data=payload, headers=headers)\n",
    "    \n",
    "    if response.status_code == 200:\n",
    "        access_token = response.json()['access_token']\n",
    "        \n",
    "        headers = {\n",
    "            'Authorization': f'Bearer {access_token}'\n",
    "        }\n",
    "        \n",
    "        response = requests.get(url, headers=headers)\n",
    "        \n",
    "        if response.status_code == 200:\n",
    "            show_data = response.json()\n",
    "            #print(show_data)\n",
    "            if len(show_data['shows']['items']) > 0:\n",
    "                show_id = show_data['shows']['items'][0]['id']\n",
    "        else:\n",
    "            print(f\"Error: Unable to retrieve show information. Status code {response.status_code}\")\n",
    "    else:\n",
    "        print(f\"Error: Unable to retrieve access token. Status code {response.status_code}\")\n",
    "        \n",
    "    return show_id\n",
    "    "
   ]
  },
  {
   "cell_type": "code",
   "execution_count": 23,
   "id": "532de2af-1871-43c0-bb69-3b9918e9c534",
   "metadata": {
    "scrolled": true
   },
   "outputs": [
    {
     "name": "stdout",
     "output_type": "stream",
     "text": [
      "['6VpV9ZlbQTzMngKilhJlZs', None, None, '7AgQSpalNK5OwhQjWFmAEr', None, None, None, None, None, None, None, None, None, None, None, '5EA5JpC0p2wRazXv3q4gYS', '5b0KJx66TTplApOF0vqQCD', '2Xa3GbllxlSnTXarA2HsyK', None, None, '77iUVnajPyEWPhY6LxjpzM', None, None, None, '1JH26td5UtmKQWHLv0NCZp', '5DHMlgUAo4cc2zYb9jdpBI', None, None, '7kXXC0JwHsnYyiMl3c5Vfb', None, None, None, None, None, '4OXGjyjT1UtANcjo8TaJHh', None, None, '2lX4necvtAjBQTHTZFGVi8', None, '3Kkaz4Z9dWfnJuOpn8TnXb', '32p08HngccrVVyugc45Ljp', '0Z3M1mtmdnvMgTbO27LHkB', None, None, None, '41EUjkv3PfnDXFkVxTJpmz', None, '2G3PRMUhxGQkyQzLiiCqlf', None, '0InqQVwHuNWDeUr31thY05', '6VpV9ZlbQTzMngKilhJlZs', None, '2gRd1woKiAazAKPWPkHjds', None, None, '6M2O0tltPbenrncrUXPyxf', None, None, None, None, None, '4QbLlCXPLBEZ54CflXoe4t', None, None, '1Wz3JX3ZNE24lnbSroRmpq', None, None, '4OXGjyjT1UtANcjo8TaJHh', None, '73hjIggIaddQCcT1Vc5K36', '1PgDUTgeyu3FOzK1FcBoqa', None, None, None, None, None, '1Wz3JX3ZNE24lnbSroRmpq', None, None, '42pdtFh9H7v65Gg3QI5Gf0', '3SKmtN55V2AGbzHDo34DHI', None, '6PwE1CIZsgfrhX6Bw96PUN', None, None, None, '5DHMlgUAo4cc2zYb9jdpBI', '1PgDUTgeyu3FOzK1FcBoqa', None, None, None, None, '7eUrbVoYVJF9kJc1GjBBwz', None, '77iUVnajPyEWPhY6LxjpzM', '4uZz9fCmQDUfF0WWRJ2UxW', None, None, None, None, '5SI8gPxB4mKWXfGNe522rB', '41EUjkv3PfnDXFkVxTJpmz', None, None, None, '4ov7WzQzOWTyPC2EhPfPDo', None, '6T5ZpDAiMrN82F3u6Di9yT', None, '3teNTDmHnzYXYiU0L2oZTw', None, None, None, '1iNjAJJNcGn9eZMrj1ugeO', None, None, None, '65Usg2bG7zqKRqfWimsA8a', '63AWQmsSnFNFHUqnRAOFtD', '0VjIStA3iUPJCqtiTSRhVY', None, None, '79CkJF3UJTHFV8Dse3Oy0P', None, None, None, '1PgDUTgeyu3FOzK1FcBoqa', '1Wz3JX3ZNE24lnbSroRmpq', '21PkmVSfSnUPDxwhocGgcA', None, None, '1bmU8gqK78sF4iD2OKFKUZ', '77iUVnajPyEWPhY6LxjpzM', '4zzf1ckEzpHOUGTvHea3Wl', '5DHMlgUAo4cc2zYb9jdpBI', '4QbLlCXPLBEZ54CflXoe4t', '1qZ8PM4YUJV9uCaJm2O1u2', None, None, '7jbRU0qOjbxZJf9d49AHEh', '0r3RJLWmXy3ydIHILHZ8fr', None, None, '23JyccHPmQ8fzmpmnvQ6hR', None, None, '2wXkPmmFUoYYNZMaM4s8G5', None, None, None, None, None, None, '6gwZMI6aTPHkvIYe4dEjpu', None, None, None, None, None, None, '2QoIpuCjh332VOeDYxLr3A', None, None, None, None, '57R7dOcs60jUfOnuNG0J1R', None, None, '7qjjpPZmFT6qtoKdjvOLeP', '4OXGjyjT1UtANcjo8TaJHh', None, '77iUVnajPyEWPhY6LxjpzM', None, None, None, '3kDS5MRlBl53tA3MRGqLzx', None, '5DHMlgUAo4cc2zYb9jdpBI', None, '3fQkNGzE1mBF1VrxVTY0oo', None, '6XgmBsNNk7W9pGgoz0Z63V', None, '7dPaVRAd0ftX7MumOA0lln', None, '7iQXmUT7XGuZSzAMjoNWlX', '1u2PXkAWotPezlqmYqJKAk', None, None, '18BVQdQI7ICHeSCh3Rnvw1', None, None, None, None, '74FGB3Pn9T1jx3zOPEI9jp', '1Wz3JX3ZNE24lnbSroRmpq', '7jbRU0qOjbxZJf9d49AHEh', '678SZih757xkZkGeCK0DG7', None, '4eDCVvVXJVwKCa0QfNbuXA', None, '1iNjAJJNcGn9eZMrj1ugeO', '1r3dFWldwA8uQTFjuxx8C9', None, None, '3hCjZRl6aWz10bykHXIPCt', None, '4CGLKgOJgW9pL8jLqGVqQX', '74FGB3Pn9T1jx3zOPEI9jp', None, None, '1N28eHLvqLOjK20cGMuaYU', '41EUjkv3PfnDXFkVxTJpmz', None, None, None, '77iUVnajPyEWPhY6LxjpzM', None, '5WkdjiVLo1kp3alPfFZItS', None, None, '406i4Sr4xMGX9D3XAdFN3r', None, None, None, '5DHMlgUAo4cc2zYb9jdpBI', None, None, None, None, None, None, '040Ova1Nb7evxI8gwl8Gsx', None, None, '6jP6MWusj8RxPj2MjtkGVT', None, None, None, '1ywvh6P5saIEuZAL9BqVfx', '0XrOqvxlqQI6bmdYHuIVnr', '7AgQSpalNK5OwhQjWFmAEr', None, '1JH26td5UtmKQWHLv0NCZp', '6PwE1CIZsgfrhX6Bw96PUN', '0VjIStA3iUPJCqtiTSRhVY', None, None, '1PgDUTgeyu3FOzK1FcBoqa', '4tA3o35CdxDHAhwaa0CoSq', None, '77iUVnajPyEWPhY6LxjpzM', None, '1Wz3JX3ZNE24lnbSroRmpq', '4OXGjyjT1UtANcjo8TaJHh', None, None, '0XrOqvxlqQI6bmdYHuIVnr', None, '5DHMlgUAo4cc2zYb9jdpBI', None, None, None, '0dxBtcL8pcM7Pu83JpS0Cr', None, None, '73hjIggIaddQCcT1Vc5K36', None, '3WxE9BwcdiY4bsqTmVGTc6', None, None, None, '4zzf1ckEzpHOUGTvHea3Wl', '1PgDUTgeyu3FOzK1FcBoqa', '7eUrbVoYVJF9kJc1GjBBwz', '42pdtFh9H7v65Gg3QI5Gf0', '7i59GubTw3CcNy9M6m7DTX', '2kAQNrFzvvljBNhojpXoN1', '4QbLlCXPLBEZ54CflXoe4t', None, '1xiVZOowwKsa9huYiw2FTJ', '77iUVnajPyEWPhY6LxjpzM', None, None, '5EA5JpC0p2wRazXv3q4gYS', '1TcUrBqWiqNUMO5IXSVKVd', None, '1KkH52Tyu09YL7sNWDCTyy', None, None, None, '1Wz3JX3ZNE24lnbSroRmpq', '7rrXnDyc70sfTcJqBO32lr', None, '0Z3M1mtmdnvMgTbO27LHkB', '1N28eHLvqLOjK20cGMuaYU', '5DHMlgUAo4cc2zYb9jdpBI', None, None, None, '1u2PXkAWotPezlqmYqJKAk', None, None, None, None, None, None, None, None, None, '07iR1tmQtqLnfUyk2PB26k', None, None, None, None, None, '6pCSLmJo42HBeEpzucLMLw', '6BLoYEVHrpb7eUmTbOxt00', None, '2Xa3GbllxlSnTXarA2HsyK', None, '0ymlroFYVlSAnoq0uqECGx', '4ov7WzQzOWTyPC2EhPfPDo', None, None, '41EUjkv3PfnDXFkVxTJpmz', None, '0VjIStA3iUPJCqtiTSRhVY', '3LCp5EsQaFNbU8uLwIAT4Q', '3SKmtN55V2AGbzHDo34DHI', None, None, None, None, None, '7FcUnUkiDWtCDh4YEBNl17', None, None, '2Qi8r1bKblpHYhG9GndXpB', '1WqQJQTdbVS1LjI9n9znmF', '2I6TDCnC5EuGHNhAsBmKl5', None, '6gwZMI6aTPHkvIYe4dEjpu', None, None, None, None, None, None, '77iUVnajPyEWPhY6LxjpzM', '2gRd1woKiAazAKPWPkHjds', '4OXGjyjT1UtANcjo8TaJHh', '7D2LqJIEcKV1sRss3DMOMH', None, None, None, None, None, None, '0r3RJLWmXy3ydIHILHZ8fr', '3fQkNGzE1mBF1VrxVTY0oo', None, None, None, None, None, None, '72DYxylE1xOfhGWDQBgGkh', '4KI3PtZaWJbAWK89vgttoU', '63AWQmsSnFNFHUqnRAOFtD', None, None, None, '6PwE1CIZsgfrhX6Bw96PUN', '42pdtFh9H7v65Gg3QI5Gf0', None, '32p08HngccrVVyugc45Ljp', None, None, '7jbRU0qOjbxZJf9d49AHEh', None, None, None, None, '21PkmVSfSnUPDxwhocGgcA', '77iUVnajPyEWPhY6LxjpzM', None, '3nKvLT48YbbRQoCYQ4ern1', None, '4WkDOrAK3uASgK2PRF7j9M', '1KkH52Tyu09YL7sNWDCTyy', None, None, '1PgDUTgeyu3FOzK1FcBoqa', '1PgDUTgeyu3FOzK1FcBoqa', None, None, '7BkEIOwmfy7Dl7etQkkTPU', None, '3jLQQMgMGErBaanU4ByA9R', None, None, None, '1PgDUTgeyu3FOzK1FcBoqa', None, '5QjpaU0o1Q2MkVZwwG3y7d', '3QWB2TU7lGEV16edOyd6mK', '0dxBtcL8pcM7Pu83JpS0Cr', None, '4QbLlCXPLBEZ54CflXoe4t', None, '0VjIStA3iUPJCqtiTSRhVY', '1ol0jP8hrNHydiAd38G6B1', None, '2ZUhk9HxrpjNVge0BELaf1', None, None, None, '3jCB83gW9uTCV9uaTpZERe', '1u2PXkAWotPezlqmYqJKAk', '1N28eHLvqLOjK20cGMuaYU', None, '7D2LqJIEcKV1sRss3DMOMH', None, None, None, '4vgbwrNPxor56PDfRMPzhE', '4OXGjyjT1UtANcjo8TaJHh', None, '6gwZMI6aTPHkvIYe4dEjpu', None, '2gRd1woKiAazAKPWPkHjds', None, None, '0MLEAslFa9CxTE3Gd5OX3E', None, '3hCjZRl6aWz10bykHXIPCt', '0L9oGgMl4FlyubII8AAsGP', None, None, None, '7l5O1QRtNdej1DxfM8ZG7Z', '69w459FISapKdZ8oNXsdJT', '1Wz3JX3ZNE24lnbSroRmpq', None, None, None, '07iR1tmQtqLnfUyk2PB26k', None, None, None, None, None, None, None, None, None, '7AgQSpalNK5OwhQjWFmAEr', None, None, '24fjQRvpNKf6X08Pjr0AO2', '1mJfzvDyInYFRtOl6cFfuN', None, None, '3Xje2rg9hP66ePEvM71nCC', None, None, '2b1LhRrfPMeTyX1RWczZUq', None, None, '2QoIpuCjh332VOeDYxLr3A', '4vtZlXcZTK6SJPbOUjXMju', None, '41EUjkv3PfnDXFkVxTJpmz', None, None, None, None, None, '7eUrbVoYVJF9kJc1GjBBwz', '0Fpj5sbiyVJDpp1hTLDlyM', '1PgDUTgeyu3FOzK1FcBoqa', None, None, '2BbbFyOBNTLpYDzUai6ta2', None, '4QbLlCXPLBEZ54CflXoe4t', None, '612nrvYLVeexAH4LzlxcpU', None, None, None, '4iXxgRXO4Rho1PAf3xqKyh', None, None, '6jP6MWusj8RxPj2MjtkGVT', None, None, None, None, None, None, None, None, None, None, None, None, None, None, None, None, None, '21PkmVSfSnUPDxwhocGgcA', None, None, None, None, None, '5EA5JpC0p2wRazXv3q4gYS', None, '77iUVnajPyEWPhY6LxjpzM', '2MAi0BvDc6GTFvKFPXnkCL', None, None, None, None, None, '5X7gp76yqeYJjRlzcBE9OR', None, None, None, None, None, None, '3dFVX2maIjW62sg2nwQywk', '77iUVnajPyEWPhY6LxjpzM', '2ca3fTFmcoNgpQe6SD5XQa', None, None, None, None, '0VjIStA3iUPJCqtiTSRhVY', None, None, None, None, None, None, '2dDtokS3zETDd9ibXKkOCJ', None, None, None, None, '3WkU32KVrk9lCTcVC5DPpl', '2G5dCKYPPwjjYYqO2ynMGJ', None, None, None, '77iUVnajPyEWPhY6LxjpzM', '41EUjkv3PfnDXFkVxTJpmz', None, None, '4WkDOrAK3uASgK2PRF7j9M', None, None, '4KI3PtZaWJbAWK89vgttoU', None, None, None, None, None, None, None, None, '07iR1tmQtqLnfUyk2PB26k', None, None, '2ZUhk9HxrpjNVge0BELaf1', None, '2gRd1woKiAazAKPWPkHjds', None, '42pdtFh9H7v65Gg3QI5Gf0', '7jbRU0qOjbxZJf9d49AHEh', None, None, None, '2MAi0BvDc6GTFvKFPXnkCL', None, None, None, None, '6gwZMI6aTPHkvIYe4dEjpu', '7rrXnDyc70sfTcJqBO32lr', None, '1Wz3JX3ZNE24lnbSroRmpq', '7AgQSpalNK5OwhQjWFmAEr', '4LnlzXj1jT5pDebflpwQtH', None, '0Fpj5sbiyVJDpp1hTLDlyM', '2gRd1woKiAazAKPWPkHjds', '6SZ5YtdJIxqYyss4WQQ2w5', '4ov7WzQzOWTyPC2EhPfPDo', '5hYJxUPfoXCU73Yht7XAW7', '1MvC2HoE8zqdrzLc7PIgIz', '39RKpwDoBqRp5hqXFvpgjB', None, '5kgfhEn6xAeQRWxiwmh9QZ', None, None, None, None, None, None, None, None, None, '77ckqkx3MbP1cKhjDjAbDY', '4zAbswiZvdpyynT3iagb8A', None, None, None, '4ZTjmD9dG6RTpfNx2ANOzn', None, None, None, None, '0VV8cza2fGCQ8lVkiDOky6', None, None, None, None, None, '6NQfqaCnhTvQvbdz6jkMhz', '7irxBvxNqGYnUdFo1c2gMc', '5vL0dqaXaBTXrZDJRwrzBE', None, None, '0VjIStA3iUPJCqtiTSRhVY', None, None, None, None, None, None, None, None, None, None, None, None, None, None, None, None, '7jbRU0qOjbxZJf9d49AHEh', '5QjpaU0o1Q2MkVZwwG3y7d', '07iR1tmQtqLnfUyk2PB26k', '3IM0lmZxpFAY7CwMuv9H4g', None, '77iUVnajPyEWPhY6LxjpzM', None, None, '5TCQoJGT3jqZmPhaL4Vq1i', None, '3jCB83gW9uTCV9uaTpZERe', None, '1Wz3JX3ZNE24lnbSroRmpq', '3WkU32KVrk9lCTcVC5DPpl', '6XgmBsNNk7W9pGgoz0Z63V', None, '2G5dCKYPPwjjYYqO2ynMGJ', None, '2gRd1woKiAazAKPWPkHjds', None, None, '2MAi0BvDc6GTFvKFPXnkCL', None, '4QbLlCXPLBEZ54CflXoe4t', '2awMVqTgOpljk5MDoq9SUG', None, '77iUVnajPyEWPhY6LxjpzM', '2lX4necvtAjBQTHTZFGVi8', '4ov7WzQzOWTyPC2EhPfPDo', '7i59GubTw3CcNy9M6m7DTX', '1PgDUTgeyu3FOzK1FcBoqa', '3SKmtN55V2AGbzHDo34DHI', '1Wz3JX3ZNE24lnbSroRmpq', None, None, None, None, None, None, None, '2QoIpuCjh332VOeDYxLr3A', '6z4NLXyHPga1UmSJsPK7G1', '6gwZMI6aTPHkvIYe4dEjpu', None, None, None, None, None, None, '0K6KdeWaciOxM5IY8TZVCK', None, None, None, None, None, None, None, None, None, None, '2MAi0BvDc6GTFvKFPXnkCL', '0az4PZGGN9bxNWtOHYGpdd', '5DHMlgUAo4cc2zYb9jdpBI', None, None, None, None, None, None, None, None, None, None, None, None, None, None, '4ov7WzQzOWTyPC2EhPfPDo', None, None, '21PkmVSfSnUPDxwhocGgcA', '77iUVnajPyEWPhY6LxjpzM', None, '2lX4necvtAjBQTHTZFGVi8', None, None, None, None, '77iUVnajPyEWPhY6LxjpzM', None, None, None, None, None, '4nl2RnapQB8ChnkuPMfjnu', '7wkxGfXtkLfehOluj8kxlV', None, None, None, None, '2gRd1woKiAazAKPWPkHjds', '7wkxGfXtkLfehOluj8kxlV', None, None, '0r3RJLWmXy3ydIHILHZ8fr', None, '6tJJM7g8HPPCzpVnvFTDww', '6UsuhRMTD9O71DznRP8540', '6x7gjjQVoY1E8lEvoEUrfr', '2G5dCKYPPwjjYYqO2ynMGJ', None, '4Fyet1LNfHugLTCBsyijSu', None, '2awMVqTgOpljk5MDoq9SUG', None, None, None, None, None, '0BKAnu976g3EJrovyyg5Gk', '2QoIpuCjh332VOeDYxLr3A', None, None, '5tMHDm7XHkniXSCTVFDGuE', None, '7jbRU0qOjbxZJf9d49AHEh', None, '42pdtFh9H7v65Gg3QI5Gf0', '77iUVnajPyEWPhY6LxjpzM', None, None, None, None, '4LnlzXj1jT5pDebflpwQtH', None, None, '6tJJM7g8HPPCzpVnvFTDww', None, '3dFVX2maIjW62sg2nwQywk', None, None, None, '622lvLwp8CVu6dvCsYAJhN', None, None, None, '5vL0dqaXaBTXrZDJRwrzBE', None, None, '4QbLlCXPLBEZ54CflXoe4t', None, None, None, '5lWBPMj5eCHKM6Bde4eFLS', None, '4WkDOrAK3uASgK2PRF7j9M', None, None, None, None, None, None, '3Kkaz4Z9dWfnJuOpn8TnXb', None, None, None, None, None, '69w459FISapKdZ8oNXsdJT', None, None, None, None, None, None, None, None, None, None, None, '6plfYVaOaWgM0P0tqVK9sK', None, None, None, '4QbLlCXPLBEZ54CflXoe4t', None, '4ov7WzQzOWTyPC2EhPfPDo', None, '2QoIpuCjh332VOeDYxLr3A', None, None, None, None, '63SCSYF3vNyGpv1SwhNyhW', '1Wz3JX3ZNE24lnbSroRmpq', '1ol0jP8hrNHydiAd38G6B1', None, None, None, None, None, '2awMVqTgOpljk5MDoq9SUG', None, None, None, None, '2lX4necvtAjBQTHTZFGVi8', None, None, '21PkmVSfSnUPDxwhocGgcA', None, '2uem9y8kALDh47oCShBAJx', None, '24fjQRvpNKf6X08Pjr0AO2', None, None, '2QoIpuCjh332VOeDYxLr3A', None, None, '2lX4necvtAjBQTHTZFGVi8', None, '6JUrthtbNt3pYFhtIN40UN', None, None, None, None, None, None, '1bmU8gqK78sF4iD2OKFKUZ', None, None, None, '07iR1tmQtqLnfUyk2PB26k', None, None, '3jCB83gW9uTCV9uaTpZERe', None, None, None, None, '3Kkaz4Z9dWfnJuOpn8TnXb', None, None, None, None, None, '2lX4necvtAjBQTHTZFGVi8', None, None, None, None, '0VjIStA3iUPJCqtiTSRhVY', None, None, None, None, None, None, None, None, None, None, None, None, None, '2gRd1woKiAazAKPWPkHjds', None, '2G5dCKYPPwjjYYqO2ynMGJ', None, '3SKmtN55V2AGbzHDo34DHI', None, None, None, None, None, None, '6GSnbFz5qzNuKnLmGzQbPc', None, None, '77iUVnajPyEWPhY6LxjpzM', '1jtMXsouNB9Prm7CWm92Fc', None, None, None, None, None, None, None, None, None, None, None, None, '7rrXnDyc70sfTcJqBO32lr', None, '6PwE1CIZsgfrhX6Bw96PUN', '2IbzGFxyso5jpIsI0rz8Js', '2awMVqTgOpljk5MDoq9SUG', None, None, None, None, None, '4ov7WzQzOWTyPC2EhPfPDo', '5vL0dqaXaBTXrZDJRwrzBE', None, None, '0ql75CDGZTlYENdab4BJ8l', None, None, None, None, None, None, None, '07iR1tmQtqLnfUyk2PB26k', None, None, None, None, None, '5oA7mY0C97Ve5gcOkOC5p0', '4WkDOrAK3uASgK2PRF7j9M', None, None, None, None, '7i59GubTw3CcNy9M6m7DTX', None, None, None, '7i59GubTw3CcNy9M6m7DTX', None, None, None, '77iUVnajPyEWPhY6LxjpzM', None, '4ov7WzQzOWTyPC2EhPfPDo', None, None, None, None, None, None, None, None, None, None, None, '6mAIYGu1kFRxKnDNH9FJxJ', None, '4LnlzXj1jT5pDebflpwQtH', None, '5QjpaU0o1Q2MkVZwwG3y7d', None, None, None, None, None, None, None, None, None, None, None, None, None, None, None, None, None, None, None, None, None, None, None, None, None, None, None, None, '0EO7GVhfnTNgHrsIDqxhcg', None, None, None, '622lvLwp8CVu6dvCsYAJhN', '7HnXdlGouAwRwKHTGKhAi8', None, None, '2rQHXP3eCUPVRzyjZPHaU4', None, None, '77ckqkx3MbP1cKhjDjAbDY', '7LKSoVj2FBt6YTqHfaCX2p', '28fb0MPwBQG3Ak69y6Kwys', None, None, None, None, '4ov7WzQzOWTyPC2EhPfPDo', None, None, '1Wz3JX3ZNE24lnbSroRmpq', None, '7D2LqJIEcKV1sRss3DMOMH', None, None, None, None, None, None, None, None, None, None, None, None, None, None, '0BKAnu976g3EJrovyyg5Gk', None, None, None, None, None, None, None, None, '6PwE1CIZsgfrhX6Bw96PUN', None, None, None, None, None, '77iUVnajPyEWPhY6LxjpzM', None, '42pdtFh9H7v65Gg3QI5Gf0', None, None, None, None, None, None, None, None, None, None, None, '4nl2RnapQB8ChnkuPMfjnu', None, None, None, None, '5tMHDm7XHkniXSCTVFDGuE', None, None, '3Kkaz4Z9dWfnJuOpn8TnXb', '4kO5pUhfHw6R5BnsPKCW0D', '7M70q4c9LhdcApynxSD52r', None, None, '77iUVnajPyEWPhY6LxjpzM', None, '7iebjanXSICJQq0SY8ldhQ', None, None, '6mAIYGu1kFRxKnDNH9FJxJ', None, '2lX4necvtAjBQTHTZFGVi8', None, None, None, None, '6w58QdRmrrksJ8PVAqWXns', '1N28eHLvqLOjK20cGMuaYU', None, None, '77iUVnajPyEWPhY6LxjpzM', None, None, None, None, '1Wz3JX3ZNE24lnbSroRmpq', None, '42pdtFh9H7v65Gg3QI5Gf0', None, '4ov7WzQzOWTyPC2EhPfPDo', '2HQ0xANSYpBvxvsEMuYxP9', None, None, None, None, None, None, None, None, None, None, None, None, '7i59GubTw3CcNy9M6m7DTX', None, '07iR1tmQtqLnfUyk2PB26k', None, None, None, '77iUVnajPyEWPhY6LxjpzM', None, '1AXL6SGgOIy36LjoDR6Bof', None, '4rOoJ6Egrf8K2IrywzwOMk', None, None, '5QjpaU0o1Q2MkVZwwG3y7d', None, None, None, '1Wz3JX3ZNE24lnbSroRmpq', None, None, None, '7LKSoVj2FBt6YTqHfaCX2p', '3SKmtN55V2AGbzHDo34DHI', None, None, '2lX4necvtAjBQTHTZFGVi8', None, '77iUVnajPyEWPhY6LxjpzM', None, '2e6uMlVjMtBhL8i0x64JKM', None, '72qiPaoDRf8HkGKEChvG5q', None, None, None, '1NhUzSSO6iUJ0VVTGJc8XT', None, None, None, None, None, '4ov7WzQzOWTyPC2EhPfPDo', None, '2IbzGFxyso5jpIsI0rz8Js', None, '77iUVnajPyEWPhY6LxjpzM', None, '1N28eHLvqLOjK20cGMuaYU', '1PgDUTgeyu3FOzK1FcBoqa', '7i59GubTw3CcNy9M6m7DTX', None, '1bmU8gqK78sF4iD2OKFKUZ', None, None, '5TCQoJGT3jqZmPhaL4Vq1i', None, None, None, '41EUjkv3PfnDXFkVxTJpmz', '42pdtFh9H7v65Gg3QI5Gf0', None, None, '07iR1tmQtqLnfUyk2PB26k', '77iUVnajPyEWPhY6LxjpzM', None, None, None, None, None, '6hBujzemAYYtvz3O1kJtnh', '0iwp5fQ2dq14joTXmM08xV', None, None, '77ckqkx3MbP1cKhjDjAbDY', None, '4ov7WzQzOWTyPC2EhPfPDo', None, None, None, None, '73Dr7RKXrAe0ufdU67M9ZE', None, None, '6plfYVaOaWgM0P0tqVK9sK', None, None, None, None, '6TJdOhAdCqZbvDBOWgRxPT', None, None, None, None, None, None, None, None, None, None, '5gu1jSeG4TJAS1WJT9GL8l', None, None, None, '6tJJM7g8HPPCzpVnvFTDww', '4WkDOrAK3uASgK2PRF7j9M', None, None, None, None, '5vL0dqaXaBTXrZDJRwrzBE', None, '07iR1tmQtqLnfUyk2PB26k', None, None, None, None, None, None, None, None, None, None, '0goz2PRCT0qogGeShK9T3k', None, None, '4lRbQrV9RyrqFY8JcYdmHD', None, None, None, '5EA5JpC0p2wRazXv3q4gYS', None, None, None, None, None, None, '1N28eHLvqLOjK20cGMuaYU', '6GSnbFz5qzNuKnLmGzQbPc', None, None, None, None, None, '6mAIYGu1kFRxKnDNH9FJxJ', None, None, None, None, None, None, None, '07iR1tmQtqLnfUyk2PB26k', '4ov7WzQzOWTyPC2EhPfPDo', None, None, None, None, None, '46owJNI3FJ3Uaiy5yg9ejo', '2HQ0xANSYpBvxvsEMuYxP9', None, None, None, '5tMHDm7XHkniXSCTVFDGuE', None, '5vL0dqaXaBTXrZDJRwrzBE', None, None, None, None, None, None, '77iUVnajPyEWPhY6LxjpzM', None, '5QjpaU0o1Q2MkVZwwG3y7d', None, None, '2lX4necvtAjBQTHTZFGVi8', None, '7cA2mCTQHihOKJx4o91hrn', None, None, None, None, '1N28eHLvqLOjK20cGMuaYU', '0ONt1OX3F50pY7iF8gp7Y3', None, '77iUVnajPyEWPhY6LxjpzM', None, None, None, '7i59GubTw3CcNy9M6m7DTX', '4ov7WzQzOWTyPC2EhPfPDo', '0BKAnu976g3EJrovyyg5Gk', None, None, None, None, '4WkDOrAK3uASgK2PRF7j9M', '0n7j2qseg6fu0Fj2dvzXVi', None, None, None, None, None, None, '2lX4necvtAjBQTHTZFGVi8', None, '1PgDUTgeyu3FOzK1FcBoqa', None, '2MQxfP36MRl3mwqWZt1K91', '4ov7WzQzOWTyPC2EhPfPDo', '4QE9mMUthBRDP3IKPJQkrN', None, None, None, '1Wz3JX3ZNE24lnbSroRmpq', None, '2lX4necvtAjBQTHTZFGVi8', None, '77iUVnajPyEWPhY6LxjpzM', None, None, None, '4rOoJ6Egrf8K2IrywzwOMk', '7i59GubTw3CcNy9M6m7DTX', None, None, None, '6ds0A38r6I6TNHl11EVdco', None, None, '2lX4necvtAjBQTHTZFGVi8', None, '72qiPaoDRf8HkGKEChvG5q', None, '3YqslG52cmjcT35RFjql8D', None, '77iUVnajPyEWPhY6LxjpzM', '1NhUzSSO6iUJ0VVTGJc8XT', None, '1N28eHLvqLOjK20cGMuaYU', None, '07iR1tmQtqLnfUyk2PB26k', None, None, None, None, None, None, '77iUVnajPyEWPhY6LxjpzM', None, None, None, None, None, '1Wz3JX3ZNE24lnbSroRmpq', None, None, None, '2lX4necvtAjBQTHTZFGVi8', None, '0e5hWNp8cvtzuM0vPOY0OD', None, '2lX4necvtAjBQTHTZFGVi8', None, None, None, None, '7D2LqJIEcKV1sRss3DMOMH', None, None, '7KVJ0re36Vm1k2RmIvnzWM', None, None, '0n7j2qseg6fu0Fj2dvzXVi', None, None, '41EUjkv3PfnDXFkVxTJpmz', '4CwM0d64N50QoBPC0bVcH9', '6GSnbFz5qzNuKnLmGzQbPc', '4ov7WzQzOWTyPC2EhPfPDo', None, '07iR1tmQtqLnfUyk2PB26k', None, None, None, '6q1aic8uA1oSEJ5U6ryrWM', None, None, '6plfYVaOaWgM0P0tqVK9sK', None, None, None, None, None, '1RtqWbHFKLmNTOZWjVAsqd', '2lX4necvtAjBQTHTZFGVi8', None, None, '6w58QdRmrrksJ8PVAqWXns', '77iUVnajPyEWPhY6LxjpzM', '6mAIYGu1kFRxKnDNH9FJxJ', None, None, None, '1gyPbNdXZrNwoPPqVj1WdR', '7D2LqJIEcKV1sRss3DMOMH', '77iUVnajPyEWPhY6LxjpzM', None, '1N28eHLvqLOjK20cGMuaYU', None, '5QjpaU0o1Q2MkVZwwG3y7d', None, None, None, '1PgDUTgeyu3FOzK1FcBoqa', None, None, None, None, '1Wz3JX3ZNE24lnbSroRmpq', None, None, None, '4xEmNEskAf4HyZJbJK424N', None, '42pdtFh9H7v65Gg3QI5Gf0', '07iR1tmQtqLnfUyk2PB26k', None, None, None, '7iebjanXSICJQq0SY8ldhQ', '77iUVnajPyEWPhY6LxjpzM', None, None, '7LKSoVj2FBt6YTqHfaCX2p', '70xb620hLbozq0Vb46t6Lv', None, '77iUVnajPyEWPhY6LxjpzM', '7D2LqJIEcKV1sRss3DMOMH', '7i59GubTw3CcNy9M6m7DTX', None, '4ov7WzQzOWTyPC2EhPfPDo', None, None, '1Wz3JX3ZNE24lnbSroRmpq', None, None, None, None, '2lX4necvtAjBQTHTZFGVi8', None, None, '1PgDUTgeyu3FOzK1FcBoqa', None, None, None, None, '5vL0dqaXaBTXrZDJRwrzBE', None, None, None, '3gNL8WirdxSt9JaVwEL5EX', '77iUVnajPyEWPhY6LxjpzM', None, None, None, None, None, '7iebjanXSICJQq0SY8ldhQ', None, None, None, None, '77iUVnajPyEWPhY6LxjpzM', None, '2HQ0xANSYpBvxvsEMuYxP9', None, '2lX4necvtAjBQTHTZFGVi8', '2lX4necvtAjBQTHTZFGVi8', None, '5TCQoJGT3jqZmPhaL4Vq1i', '77iUVnajPyEWPhY6LxjpzM', None, None, None, None, None, None, None, None, '1jtMXsouNB9Prm7CWm92Fc', None, '7i59GubTw3CcNy9M6m7DTX', None, '2lX4necvtAjBQTHTZFGVi8', None, None, '77iUVnajPyEWPhY6LxjpzM', None, None, None, None, '77iUVnajPyEWPhY6LxjpzM', None, None, None, None, None, None, None, None, None, None, None, '5QjpaU0o1Q2MkVZwwG3y7d', '2lX4necvtAjBQTHTZFGVi8', None, '4ov7WzQzOWTyPC2EhPfPDo', None, '6XgmBsNNk7W9pGgoz0Z63V', '1Wz3JX3ZNE24lnbSroRmpq', None, None, None, None, None, '2K45beuVockFbC8UAV0uz0', '7jn61tdqPGeBvZuKuUOtRG', '1N28eHLvqLOjK20cGMuaYU', None, '7jiC7pggUDVjyWuosr0v7e', '2lX4necvtAjBQTHTZFGVi8', None, None, None, None, None, None, None, None, None, None, '6w58QdRmrrksJ8PVAqWXns', None, None, '6ym85RT8VKxlzgZBdQO8t3', None, None, None, '5GEa8PiRcBZjVjkQR5VO1L', None, None, '2lX4necvtAjBQTHTZFGVi8', None, None, None, None, None, '2lX4necvtAjBQTHTZFGVi8', None, '77iUVnajPyEWPhY6LxjpzM', None, '1Wz3JX3ZNE24lnbSroRmpq', None, '6W3adfEt7F231y7hHJ2IKO', '4ov7WzQzOWTyPC2EhPfPDo', None, None, '7i59GubTw3CcNy9M6m7DTX', '6tJJM7g8HPPCzpVnvFTDww', '0YlgjXHWL0Lfxnp1LKdx9P', None, '1PgDUTgeyu3FOzK1FcBoqa', '5EA5JpC0p2wRazXv3q4gYS', None, '3EWvlaC90aw6mi9V79pu8j', None, None, '1N28eHLvqLOjK20cGMuaYU', '5tMHDm7XHkniXSCTVFDGuE', None, None, '2O1r4qrMEY8XZQIfWbfPbz', None, '6Ijz5uEUxN6FvJI49ZGJAJ', None, '4InzFZYlPvwfeMPPRlbxGO', None, None, None, None, None, '6tJJM7g8HPPCzpVnvFTDww', None, '6tJJM7g8HPPCzpVnvFTDww', None, '4ov7WzQzOWTyPC2EhPfPDo', None, None, None, None, '1PgDUTgeyu3FOzK1FcBoqa', '5FId0qPP5SldltQTgVFTxq', None, None, None, None, None, '77iUVnajPyEWPhY6LxjpzM', None, None, '5vL0dqaXaBTXrZDJRwrzBE', None, None, None, None, '1Wz3JX3ZNE24lnbSroRmpq', None, '4IqH5rqVq6la1hNNUGLQDF', None, '7iebjanXSICJQq0SY8ldhQ', '6w58QdRmrrksJ8PVAqWXns', '1TJtEQ6DnPIi9bqYx2xdTt', None, '5QjpaU0o1Q2MkVZwwG3y7d', None, None, None, None, None, '5kgfhEn6xAeQRWxiwmh9QZ', None, None, None, None, None, '2lX4necvtAjBQTHTZFGVi8', '2lX4necvtAjBQTHTZFGVi8', None, None, None, None, '0ZD43YPKer9ZWsZKAry5Rg', None, None, None, None, '7nl7iKCcIM32kD1fMvI9eF', None, '77iUVnajPyEWPhY6LxjpzM', '6w58QdRmrrksJ8PVAqWXns', None, '1N28eHLvqLOjK20cGMuaYU', None, None, '7dqKb3vWJ0bpysM4iuJf6o', None, None, None, None, None, None, None, None, None, None, '6cyGcuvDw0uGIyW86p0mot', None, '4ov7WzQzOWTyPC2EhPfPDo', None, None, None, '6SRqeyPqz0pWxyMRhv7zZn', '4IqH5rqVq6la1hNNUGLQDF', None, None, None, None, None, '7D2LqJIEcKV1sRss3DMOMH', '7D2LqJIEcKV1sRss3DMOMH', None, '4ov7WzQzOWTyPC2EhPfPDo', None, None, '77iUVnajPyEWPhY6LxjpzM', None, None, None, None, None, None, None, '5QjpaU0o1Q2MkVZwwG3y7d', None, '7LKSoVj2FBt6YTqHfaCX2p', None, None, None, None, None, '6plfYVaOaWgM0P0tqVK9sK', '5EA5JpC0p2wRazXv3q4gYS', '1N28eHLvqLOjK20cGMuaYU', None, None, None, None, '5EA5JpC0p2wRazXv3q4gYS', None, None, None, None, '7D2LqJIEcKV1sRss3DMOMH', '1Wz3JX3ZNE24lnbSroRmpq', None, '7kXXC0JwHsnYyiMl3c5Vfb', None, None, None, None, None, None, None, None, None, '1Wz3JX3ZNE24lnbSroRmpq', None, '1N28eHLvqLOjK20cGMuaYU', '5GEa8PiRcBZjVjkQR5VO1L', None, '4WkDOrAK3uASgK2PRF7j9M', None, '5QjpaU0o1Q2MkVZwwG3y7d', None, '7D2LqJIEcKV1sRss3DMOMH', None, '4ov7WzQzOWTyPC2EhPfPDo', None, None, None, None, None, '7i59GubTw3CcNy9M6m7DTX', None, None, None, None, None, None, '6w58QdRmrrksJ8PVAqWXns', None, None, '0iEwE8YHtoAwdWAYm9KJog', None, None, None, '1Wz3JX3ZNE24lnbSroRmpq', '4ov7WzQzOWTyPC2EhPfPDo', '4IqH5rqVq6la1hNNUGLQDF', '4IqH5rqVq6la1hNNUGLQDF', None, None, '7i59GubTw3CcNy9M6m7DTX', None, None, None, None, None, '1N28eHLvqLOjK20cGMuaYU', None, '0H9o8kgwaWo2jEVdyMFWzz', '4reHlMWLbgN0GbqaHp1nLF', '4reHlMWLbgN0GbqaHp1nLF', '0A72xNSaYCHvgKYjeYCElI', None, None, '2uCHClMvwRjVQa3lagTJ0T', None, None, '72qiPaoDRf8HkGKEChvG5q', None, None, None, None, '4kO5pUhfHw6R5BnsPKCW0D', None, '7kXXC0JwHsnYyiMl3c5Vfb', '7i59GubTw3CcNy9M6m7DTX', None, None, '5GEa8PiRcBZjVjkQR5VO1L', None, None, '6M2O0tltPbenrncrUXPyxf', '0C0kfKVNmUM2nVTpMqGgUL', '4ov7WzQzOWTyPC2EhPfPDo', None, '1ywvh6P5saIEuZAL9BqVfx', None, None, None, '4IqH5rqVq6la1hNNUGLQDF', '7i59GubTw3CcNy9M6m7DTX', None, '1Wz3JX3ZNE24lnbSroRmpq', None, '77iUVnajPyEWPhY6LxjpzM', '3pg7Kwu2Wia2sKGRWaJ1rC', None, '4ov7WzQzOWTyPC2EhPfPDo', None, None, None, '1N28eHLvqLOjK20cGMuaYU', None, None, None, '72qiPaoDRf8HkGKEChvG5q', '1Wz3JX3ZNE24lnbSroRmpq', '6M2O0tltPbenrncrUXPyxf', '4ov7WzQzOWTyPC2EhPfPDo', None, None, '7D2LqJIEcKV1sRss3DMOMH', '3s7gEZYEk8Kk3Weaxk2zpp', None, None, None, '0H9o8kgwaWo2jEVdyMFWzz', None, '1n1zy7f20KdtEFan2dvcaC', None, None, '7iebjanXSICJQq0SY8ldhQ', None, '6w58QdRmrrksJ8PVAqWXns', '77iUVnajPyEWPhY6LxjpzM', None, None, None, '4WkDOrAK3uASgK2PRF7j9M', '4ov7WzQzOWTyPC2EhPfPDo', None, '6M2O0tltPbenrncrUXPyxf', '5vL0dqaXaBTXrZDJRwrzBE', None, None, None, None, '0iEwE8YHtoAwdWAYm9KJog', None, None, None, None, '7i59GubTw3CcNy9M6m7DTX', None, '1Wz3JX3ZNE24lnbSroRmpq', '72qiPaoDRf8HkGKEChvG5q', None, '6M2O0tltPbenrncrUXPyxf', None, None, '7D2LqJIEcKV1sRss3DMOMH', None, None, None, '5kgfhEn6xAeQRWxiwmh9QZ', None, None, None, None, None, None, None, None, '6M2O0tltPbenrncrUXPyxf', None, None, None, None, None, None, None, None, None, None, None, None, None, None, None, None, None, None, None, None, None, None, None, None, None, None, None, None, None, None, None, None, None, None, None, None, None, None, None, None, None, None, None, None, None, None, None, None, None, None, None, None, None, None, None, None, None, None, None, None, None, None, None, None, None, None, None, None, None, None, None, None, None, None, None, None, None, None, None, None, None, None, None, None, None, None, None, None, None, None, None, None, None, None, None, None, None, None, None, None, None, None, None, None, None, None, None, None, None, None, None, None, None, None, None, None, None, None, None, None, None, None, None, None, None, None, None, None, None, None, None, None, None, None, None, None, None, None, None, None, None, None, None, None, None, None, None, None, None, None, None, None, None, None, None, None, None, None, None, None, None, None, None, None, None, None, None, None, None, None, None, None, None, None, None, None, None, None, None, None, None, None, None, None, None, None, None, None, None, None, None, None, None, None, None, None, None, None, None, None, None, None, None, None, None, None, None, None, None, None, None, None, None, None, None, None, None, None, None, None, None, None, None, None, None, None, None, None, None, None, None, None, None, None, None, None, None, None, None, None, None, None, None, None, None, None, None, None, None, None, None, None, None, None, None, None, None, None, None, None, None, None, None, None, None, None, None, None, None, None, None, None, None, None, None, None, None, None, None, None, None, None, None, None, None]\n"
     ]
    }
   ],
   "source": [
    "if __name__ == '__main__':\n",
    "    # Number of processes to be used (you can adjust this based on your system)\n",
    "    num_processes = 7\n",
    "\n",
    "    # Create a Pool of processes\n",
    "    with Pool(num_processes) as pool:\n",
    "        # Use pool.map to apply the function to each item in the list\n",
    "        jre_guests_show_ids = pool.map(show_search_by_name, names)\n",
    "\n",
    "    # Results will contain the processed data in the same order as the input list\n",
    "    print(jre_guests_show_ids)"
   ]
  },
  {
   "cell_type": "markdown",
   "id": "f7d36860-513e-4e7e-a5ba-42fb766049cf",
   "metadata": {},
   "source": [
    "## Everything in a DF"
   ]
  },
  {
   "cell_type": "code",
   "execution_count": 24,
   "id": "66a1831b-d075-470a-b2e6-41cab4f9cd99",
   "metadata": {},
   "outputs": [],
   "source": [
    "df = pd.DataFrame(list(zip(SR.titles, SR.descs, SR.dates, names, jre_guests_show_ids)), columns=['Title', 'Description', 'Date', 'PodcastHosts', 'GuestShowSpotifyId'])"
   ]
  },
  {
   "cell_type": "code",
   "execution_count": 25,
   "id": "50eccbfc-7930-40c3-931a-a780461800f2",
   "metadata": {},
   "outputs": [
    {
     "data": {
      "text/html": [
       "<div>\n",
       "<style scoped>\n",
       "    .dataframe tbody tr th:only-of-type {\n",
       "        vertical-align: middle;\n",
       "    }\n",
       "\n",
       "    .dataframe tbody tr th {\n",
       "        vertical-align: top;\n",
       "    }\n",
       "\n",
       "    .dataframe thead th {\n",
       "        text-align: right;\n",
       "    }\n",
       "</style>\n",
       "<table border=\"1\" class=\"dataframe\">\n",
       "  <thead>\n",
       "    <tr style=\"text-align: right;\">\n",
       "      <th></th>\n",
       "      <th>Title</th>\n",
       "      <th>Description</th>\n",
       "      <th>Date</th>\n",
       "      <th>PodcastHosts</th>\n",
       "      <th>GuestShowSpotifyId</th>\n",
       "    </tr>\n",
       "  </thead>\n",
       "  <tbody>\n",
       "    <tr>\n",
       "      <th>0</th>\n",
       "      <td>#2064 - Mike Baker</td>\n",
       "      <td>Mike Baker is a former CIA covert operations o...</td>\n",
       "      <td>2023-11-16</td>\n",
       "      <td>[Mike Baker]</td>\n",
       "      <td>6VpV9ZlbQTzMngKilhJlZs</td>\n",
       "    </tr>\n",
       "    <tr>\n",
       "      <th>1</th>\n",
       "      <td>#2063 - The Rock</td>\n",
       "      <td>Dwayne \"The Rock\" Johnson is an actor, produce...</td>\n",
       "      <td>2023-11-15</td>\n",
       "      <td>[]</td>\n",
       "      <td>None</td>\n",
       "    </tr>\n",
       "    <tr>\n",
       "      <th>2</th>\n",
       "      <td>#2062 - Will &amp; Jenni Harris</td>\n",
       "      <td>Will Harris is the owner of White Oak Pastures...</td>\n",
       "      <td>2023-11-14</td>\n",
       "      <td>[]</td>\n",
       "      <td>None</td>\n",
       "    </tr>\n",
       "    <tr>\n",
       "      <th>3</th>\n",
       "      <td>#2061 - Whitney Cummings</td>\n",
       "      <td>Whitney Cummings is a stand-up comic, actor, a...</td>\n",
       "      <td>2023-11-10</td>\n",
       "      <td>[Whitney Cummings]</td>\n",
       "      <td>7AgQSpalNK5OwhQjWFmAEr</td>\n",
       "    </tr>\n",
       "    <tr>\n",
       "      <th>4</th>\n",
       "      <td>#2060 - Gary Brecka</td>\n",
       "      <td>Gary Brecka is a human biologist and co-founde...</td>\n",
       "      <td>2023-11-09</td>\n",
       "      <td>[]</td>\n",
       "      <td>None</td>\n",
       "    </tr>\n",
       "    <tr>\n",
       "      <th>...</th>\n",
       "      <td>...</td>\n",
       "      <td>...</td>\n",
       "      <td>...</td>\n",
       "      <td>...</td>\n",
       "      <td>...</td>\n",
       "    </tr>\n",
       "    <tr>\n",
       "      <th>2215</th>\n",
       "      <td>#5 - John Heffron, Ari Shaffir (Part 2)</td>\n",
       "      <td>Joe sits down with John Heffron, and Ari Shaffir.</td>\n",
       "      <td>2010-01-21</td>\n",
       "      <td>[]</td>\n",
       "      <td>None</td>\n",
       "    </tr>\n",
       "    <tr>\n",
       "      <th>2216</th>\n",
       "      <td>#5 - John Heffron, Ari Shaffir (Part 1)</td>\n",
       "      <td>Joe sits down with John Heffron, and Ari Shaffir.</td>\n",
       "      <td>2010-01-21</td>\n",
       "      <td>[]</td>\n",
       "      <td>None</td>\n",
       "    </tr>\n",
       "    <tr>\n",
       "      <th>2217</th>\n",
       "      <td>#3 - Ari Shaffir</td>\n",
       "      <td>Joe sits down with Ari Shaffir.</td>\n",
       "      <td>2010-01-06</td>\n",
       "      <td>[]</td>\n",
       "      <td>None</td>\n",
       "    </tr>\n",
       "    <tr>\n",
       "      <th>2218</th>\n",
       "      <td>#2 - Brian Redban</td>\n",
       "      <td>Joe sits down with Brian Redban.</td>\n",
       "      <td>2009-12-29</td>\n",
       "      <td>[]</td>\n",
       "      <td>None</td>\n",
       "    </tr>\n",
       "    <tr>\n",
       "      <th>2219</th>\n",
       "      <td>#1 - Brian Redban</td>\n",
       "      <td>Joe sits down with Brian Redban.</td>\n",
       "      <td>2009-12-24</td>\n",
       "      <td>[]</td>\n",
       "      <td>None</td>\n",
       "    </tr>\n",
       "  </tbody>\n",
       "</table>\n",
       "<p>2220 rows × 5 columns</p>\n",
       "</div>"
      ],
      "text/plain": [
       "                                        Title  \\\n",
       "0                          #2064 - Mike Baker   \n",
       "1                            #2063 - The Rock   \n",
       "2                 #2062 - Will & Jenni Harris   \n",
       "3                    #2061 - Whitney Cummings   \n",
       "4                         #2060 - Gary Brecka   \n",
       "...                                       ...   \n",
       "2215  #5 - John Heffron, Ari Shaffir (Part 2)   \n",
       "2216  #5 - John Heffron, Ari Shaffir (Part 1)   \n",
       "2217                         #3 - Ari Shaffir   \n",
       "2218                        #2 - Brian Redban   \n",
       "2219                        #1 - Brian Redban   \n",
       "\n",
       "                                            Description        Date  \\\n",
       "0     Mike Baker is a former CIA covert operations o...  2023-11-16   \n",
       "1     Dwayne \"The Rock\" Johnson is an actor, produce...  2023-11-15   \n",
       "2     Will Harris is the owner of White Oak Pastures...  2023-11-14   \n",
       "3     Whitney Cummings is a stand-up comic, actor, a...  2023-11-10   \n",
       "4     Gary Brecka is a human biologist and co-founde...  2023-11-09   \n",
       "...                                                 ...         ...   \n",
       "2215  Joe sits down with John Heffron, and Ari Shaffir.  2010-01-21   \n",
       "2216  Joe sits down with John Heffron, and Ari Shaffir.  2010-01-21   \n",
       "2217                    Joe sits down with Ari Shaffir.  2010-01-06   \n",
       "2218                   Joe sits down with Brian Redban.  2009-12-29   \n",
       "2219                   Joe sits down with Brian Redban.  2009-12-24   \n",
       "\n",
       "            PodcastHosts      GuestShowSpotifyId  \n",
       "0           [Mike Baker]  6VpV9ZlbQTzMngKilhJlZs  \n",
       "1                     []                    None  \n",
       "2                     []                    None  \n",
       "3     [Whitney Cummings]  7AgQSpalNK5OwhQjWFmAEr  \n",
       "4                     []                    None  \n",
       "...                  ...                     ...  \n",
       "2215                  []                    None  \n",
       "2216                  []                    None  \n",
       "2217                  []                    None  \n",
       "2218                  []                    None  \n",
       "2219                  []                    None  \n",
       "\n",
       "[2220 rows x 5 columns]"
      ]
     },
     "execution_count": 25,
     "metadata": {},
     "output_type": "execute_result"
    }
   ],
   "source": [
    "df"
   ]
  },
  {
   "cell_type": "code",
   "execution_count": 26,
   "id": "6f7a9574-a1bd-4d40-8f7d-205e3ae4f171",
   "metadata": {},
   "outputs": [],
   "source": [
    "df.to_pickle(\"JRE_DF.pkl\")"
   ]
  },
  {
   "cell_type": "code",
   "execution_count": null,
   "id": "3ec85373-168b-43aa-9d81-1dbc73b0dc25",
   "metadata": {},
   "outputs": [],
   "source": [
    "df = pd.read_pickle(\"JRE_DF.pkl\")"
   ]
  },
  {
   "cell_type": "code",
   "execution_count": 7,
   "id": "10e3121f",
   "metadata": {},
   "outputs": [
    {
     "name": "stdout",
     "output_type": "stream",
     "text": [
      "<Response [404]>\n"
     ]
    }
   ],
   "source": [
    "SR = ShowRetriever()\n",
    "SR.authenticate()\n",
    "SR.show_id = '6VpV9ZlbQTzMngKilhJlZs'\n",
    "SR.retrieve_all()"
   ]
  },
  {
   "cell_type": "code",
   "execution_count": 8,
   "id": "b9f7d6bf",
   "metadata": {},
   "outputs": [
    {
     "ename": "AttributeError",
     "evalue": "'ShowRetriever' object has no attribute 'name'",
     "output_type": "error",
     "traceback": [
      "\u001b[1;31m---------------------------------------------------------------------------\u001b[0m",
      "\u001b[1;31mAttributeError\u001b[0m                            Traceback (most recent call last)",
      "Cell \u001b[1;32mIn[8], line 1\u001b[0m\n\u001b[1;32m----> 1\u001b[0m \u001b[43mSR\u001b[49m\u001b[38;5;241;43m.\u001b[39;49m\u001b[43mname\u001b[49m\n",
      "\u001b[1;31mAttributeError\u001b[0m: 'ShowRetriever' object has no attribute 'name'"
     ]
    }
   ],
   "source": [
    "SR.name"
   ]
  },
  {
   "cell_type": "code",
   "execution_count": null,
   "id": "db19a884",
   "metadata": {},
   "outputs": [],
   "source": [
    "def ids_to_descs(ids:list, start_podcast:str):\n",
    "\n",
    "\n",
    "    for id_number in ids:\n",
    "        SR = ShowRetriever()\n",
    "        SR.authenticate()\n",
    "        SR.show_id = id_number\n",
    "        SR.retrieve_all()\n",
    "\n",
    "        num_processes = 7\n",
    "        # Create a Pool of processes\n",
    "        with Pool(num_processes) as pool:\n",
    "            # Use pool.map to apply the function to each item in the list\n",
    "            results = pool.map(ner_on_descs, SR.descs)\n",
    "        with Pool(num_processes) as pool:\n",
    "            # Use pool.map to apply the function to each item in the list\n",
    "            names = pool.map(name_extraction_from_ner, results)\n",
    "        with Pool(num_processes) as pool:\n",
    "            # Use pool.map to apply the function to each item in the list\n",
    "            guests_show_ids = pool.map(show_search_by_name, names)\n",
    "        \n",
    "        showname_list = [start_podcast for k in range(len(guest_show_ids))]\n",
    "        temp_df = pd.DataFrame(list(zip(showname_list, SR.titles, SR.descs, SR.dates, names, guests_show_ids)), columns=['Showname', 'Title', 'Description', 'Date', 'PodcastHosts', 'GuestShowSpotifyId'])\n",
    "        final_df = pd.concat([final_df, temp_df], ignore_index=True)\n",
    "        return final_df, "
   ]
  },
  {
   "cell_type": "code",
   "execution_count": null,
   "id": "8290b041",
   "metadata": {},
   "outputs": [],
   "source": [
    "import pandas as pd\n",
    "from multiprocessing import Pool\n",
    "\n",
    "processed_ids = set()  # Initialize an empty set to keep track of processed IDs\n",
    "final_df = pd.DataFrame(columns=['Showname', 'Title', 'Description', 'Date', 'PodcastHosts', 'GuestShowSpotifyId'])\n",
    "\n",
    "def process_single_id(id_number, showname):\n",
    "    if id_number in processed_ids:\n",
    "        return  # Skip if the ID has already been processed\n",
    "\n",
    "    SR = ShowRetriever()\n",
    "    SR.authenticate()\n",
    "    SR.show_id = id_number\n",
    "    SR.retrieve_all()\n",
    "\n",
    "    num_processes = 7\n",
    "\n",
    "    with Pool(num_processes) as pool:\n",
    "        results = pool.map(ner_on_descs, SR.descs)\n",
    "\n",
    "    with Pool(num_processes) as pool:\n",
    "        names = pool.map(name_extraction_from_ner, results)\n",
    "\n",
    "    with Pool(num_processes) as pool:\n",
    "        guests_show_ids = pool.map(show_search_by_name, names)\n",
    "\n",
    "    showname_list = [showname for _ in range(len(guests_show_ids))]\n",
    "    temp_df = pd.DataFrame(list(zip(showname_list, SR.titles, SR.descs, SR.dates, names, guests_show_ids)),\n",
    "                           columns=['Showname', 'Title', 'Description', 'Date', 'PodcastHosts', 'GuestShowSpotifyId'])\n",
    "\n",
    "    global final_df\n",
    "    final_df = pd.concat([final_df, temp_df], ignore_index=True)\n",
    "\n",
    "    processed_ids.add(id_number)  # Add the current ID to the set of processed IDs\n",
    "\n",
    "    # Recursively process more IDs if needed\n",
    "    for new_id, showname in zip(guests_show_ids, names):\n",
    "        process_single_id(new_id, showname)\n",
    "\n",
    "def ids_to_descs(ids: list, start_podcast: str):\n",
    "    for id_number in ids:\n",
    "        process_single_id(id_number, start_podcast)\n",
    "\n",
    "# Call the function with your list of IDs and starting podcast name\n",
    "ids_to_descs([1, 2, 3], 'MyPodcast')\n",
    "\n",
    "# Print the final DataFrame\n",
    "print(final_df)\n"
   ]
  }
 ],
 "metadata": {
  "kernelspec": {
   "display_name": "Python 3 (ipykernel)",
   "language": "python",
   "name": "python3"
  },
  "language_info": {
   "codemirror_mode": {
    "name": "ipython",
    "version": 3
   },
   "file_extension": ".py",
   "mimetype": "text/x-python",
   "name": "python",
   "nbconvert_exporter": "python",
   "pygments_lexer": "ipython3",
   "version": "3.9.18"
  }
 },
 "nbformat": 4,
 "nbformat_minor": 5
}
